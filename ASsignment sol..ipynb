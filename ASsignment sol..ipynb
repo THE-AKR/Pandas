{
 "cells": [
  {
   "cell_type": "code",
   "execution_count": 1,
   "id": "f66f2bc1",
   "metadata": {},
   "outputs": [],
   "source": [
    "%matplotlib inline\n",
    "import pandas as pd\n",
    "import numpy as np"
   ]
  },
  {
   "cell_type": "code",
   "execution_count": 2,
   "id": "5b79d90e",
   "metadata": {},
   "outputs": [
    {
     "data": {
      "text/html": [
       "<div>\n",
       "<style scoped>\n",
       "    .dataframe tbody tr th:only-of-type {\n",
       "        vertical-align: middle;\n",
       "    }\n",
       "\n",
       "    .dataframe tbody tr th {\n",
       "        vertical-align: top;\n",
       "    }\n",
       "\n",
       "    .dataframe thead th {\n",
       "        text-align: right;\n",
       "    }\n",
       "</style>\n",
       "<table border=\"1\" class=\"dataframe\">\n",
       "  <thead>\n",
       "    <tr style=\"text-align: right;\">\n",
       "      <th></th>\n",
       "      <th>title</th>\n",
       "      <th>year</th>\n",
       "      <th>name</th>\n",
       "      <th>type</th>\n",
       "      <th>character</th>\n",
       "      <th>n</th>\n",
       "    </tr>\n",
       "  </thead>\n",
       "  <tbody>\n",
       "    <tr>\n",
       "      <th>0</th>\n",
       "      <td>Suuri illusioni</td>\n",
       "      <td>1985</td>\n",
       "      <td>Homo $</td>\n",
       "      <td>actor</td>\n",
       "      <td>Guests</td>\n",
       "      <td>22.0</td>\n",
       "    </tr>\n",
       "    <tr>\n",
       "      <th>1</th>\n",
       "      <td>Gangsta Rap: The Glockumentary</td>\n",
       "      <td>2007</td>\n",
       "      <td>Too $hort</td>\n",
       "      <td>actor</td>\n",
       "      <td>Himself</td>\n",
       "      <td>NaN</td>\n",
       "    </tr>\n",
       "    <tr>\n",
       "      <th>2</th>\n",
       "      <td>Menace II Society</td>\n",
       "      <td>1993</td>\n",
       "      <td>Too $hort</td>\n",
       "      <td>actor</td>\n",
       "      <td>Lew-Loc</td>\n",
       "      <td>27.0</td>\n",
       "    </tr>\n",
       "    <tr>\n",
       "      <th>3</th>\n",
       "      <td>Porndogs: The Adventures of Sadie</td>\n",
       "      <td>2009</td>\n",
       "      <td>Too $hort</td>\n",
       "      <td>actor</td>\n",
       "      <td>Bosco</td>\n",
       "      <td>3.0</td>\n",
       "    </tr>\n",
       "    <tr>\n",
       "      <th>4</th>\n",
       "      <td>Stop Pepper Palmer</td>\n",
       "      <td>2014</td>\n",
       "      <td>Too $hort</td>\n",
       "      <td>actor</td>\n",
       "      <td>Himself</td>\n",
       "      <td>NaN</td>\n",
       "    </tr>\n",
       "  </tbody>\n",
       "</table>\n",
       "</div>"
      ],
      "text/plain": [
       "                               title  year       name   type character     n\n",
       "0                    Suuri illusioni  1985     Homo $  actor    Guests  22.0\n",
       "1     Gangsta Rap: The Glockumentary  2007  Too $hort  actor   Himself   NaN\n",
       "2                  Menace II Society  1993  Too $hort  actor   Lew-Loc  27.0\n",
       "3  Porndogs: The Adventures of Sadie  2009  Too $hort  actor     Bosco   3.0\n",
       "4                 Stop Pepper Palmer  2014  Too $hort  actor   Himself   NaN"
      ]
     },
     "execution_count": 2,
     "metadata": {},
     "output_type": "execute_result"
    }
   ],
   "source": [
    "url=\"cast.csv\"\n",
    "cast = pd.read_csv(url)\n",
    "cast.head()"
   ]
  },
  {
   "cell_type": "code",
   "execution_count": 3,
   "id": "eb9ca996",
   "metadata": {},
   "outputs": [
    {
     "data": {
      "text/plain": [
       "(3311647, 6)"
      ]
     },
     "execution_count": 3,
     "metadata": {},
     "output_type": "execute_result"
    }
   ],
   "source": [
    "cast.shape"
   ]
  },
  {
   "cell_type": "code",
   "execution_count": 4,
   "id": "60ee1dbe",
   "metadata": {},
   "outputs": [
    {
     "name": "stdout",
     "output_type": "stream",
     "text": [
      "<class 'pandas.core.frame.DataFrame'>\n",
      "RangeIndex: 3311647 entries, 0 to 3311646\n",
      "Data columns (total 6 columns):\n",
      " #   Column     Dtype  \n",
      "---  ------     -----  \n",
      " 0   title      object \n",
      " 1   year       int64  \n",
      " 2   name       object \n",
      " 3   type       object \n",
      " 4   character  object \n",
      " 5   n          float64\n",
      "dtypes: float64(1), int64(1), object(4)\n",
      "memory usage: 151.6+ MB\n"
     ]
    }
   ],
   "source": [
    "cast.info()"
   ]
  },
  {
   "cell_type": "code",
   "execution_count": 5,
   "id": "24b49c53",
   "metadata": {},
   "outputs": [
    {
     "data": {
      "text/plain": [
       "3311647"
      ]
     },
     "execution_count": 5,
     "metadata": {},
     "output_type": "execute_result"
    }
   ],
   "source": [
    "cast.title.value_counts().sum()"
   ]
  },
  {
   "cell_type": "code",
   "execution_count": 6,
   "id": "e7f06f8f",
   "metadata": {},
   "outputs": [
    {
     "data": {
      "text/html": [
       "<div>\n",
       "<style scoped>\n",
       "    .dataframe tbody tr th:only-of-type {\n",
       "        vertical-align: middle;\n",
       "    }\n",
       "\n",
       "    .dataframe tbody tr th {\n",
       "        vertical-align: top;\n",
       "    }\n",
       "\n",
       "    .dataframe thead th {\n",
       "        text-align: right;\n",
       "    }\n",
       "</style>\n",
       "<table border=\"1\" class=\"dataframe\">\n",
       "  <thead>\n",
       "    <tr style=\"text-align: right;\">\n",
       "      <th></th>\n",
       "      <th>title</th>\n",
       "      <th>year</th>\n",
       "      <th>name</th>\n",
       "      <th>type</th>\n",
       "      <th>character</th>\n",
       "      <th>n</th>\n",
       "    </tr>\n",
       "  </thead>\n",
       "  <tbody>\n",
       "    <tr>\n",
       "      <th>511376</th>\n",
       "      <td>Miss Jerry</td>\n",
       "      <td>1894</td>\n",
       "      <td>Chauncey Depew</td>\n",
       "      <td>actor</td>\n",
       "      <td>Himself - the Director of the New York Central...</td>\n",
       "      <td>NaN</td>\n",
       "    </tr>\n",
       "    <tr>\n",
       "      <th>427108</th>\n",
       "      <td>Miss Jerry</td>\n",
       "      <td>1894</td>\n",
       "      <td>William Courtenay</td>\n",
       "      <td>actor</td>\n",
       "      <td>Mr. Hamilton</td>\n",
       "      <td>NaN</td>\n",
       "    </tr>\n",
       "  </tbody>\n",
       "</table>\n",
       "</div>"
      ],
      "text/plain": [
       "             title  year               name   type  \\\n",
       "511376  Miss Jerry  1894     Chauncey Depew  actor   \n",
       "427108  Miss Jerry  1894  William Courtenay  actor   \n",
       "\n",
       "                                                character   n  \n",
       "511376  Himself - the Director of the New York Central... NaN  \n",
       "427108                                       Mr. Hamilton NaN  "
      ]
     },
     "execution_count": 6,
     "metadata": {},
     "output_type": "execute_result"
    }
   ],
   "source": [
    "cast.sort_values(\"year\").head(2)"
   ]
  },
  {
   "cell_type": "code",
   "execution_count": 7,
   "id": "29c6ad0f",
   "metadata": {},
   "outputs": [
    {
     "data": {
      "text/plain": [
       "234"
      ]
     },
     "execution_count": 7,
     "metadata": {},
     "output_type": "execute_result"
    }
   ],
   "source": [
    "cast[cast[\"title\"]==\"Hamlet\"].value_counts().sum()"
   ]
  },
  {
   "cell_type": "code",
   "execution_count": 8,
   "id": "c214edc6",
   "metadata": {},
   "outputs": [
    {
     "data": {
      "text/plain": [
       "16"
      ]
     },
     "execution_count": 8,
     "metadata": {},
     "output_type": "execute_result"
    }
   ],
   "source": [
    "cast[cast[\"title\"]==\"North by Northwest\"].value_counts().sum()"
   ]
  },
  {
   "cell_type": "code",
   "execution_count": 4,
   "id": "bb872329",
   "metadata": {},
   "outputs": [
    {
     "data": {
      "text/html": [
       "<div>\n",
       "<style scoped>\n",
       "    .dataframe tbody tr th:only-of-type {\n",
       "        vertical-align: middle;\n",
       "    }\n",
       "\n",
       "    .dataframe tbody tr th {\n",
       "        vertical-align: top;\n",
       "    }\n",
       "\n",
       "    .dataframe thead th {\n",
       "        text-align: right;\n",
       "    }\n",
       "</style>\n",
       "<table border=\"1\" class=\"dataframe\">\n",
       "  <thead>\n",
       "    <tr style=\"text-align: right;\">\n",
       "      <th></th>\n",
       "      <th>title</th>\n",
       "      <th>year</th>\n",
       "      <th>name</th>\n",
       "      <th>type</th>\n",
       "      <th>character</th>\n",
       "      <th>n</th>\n",
       "    </tr>\n",
       "  </thead>\n",
       "  <tbody>\n",
       "    <tr>\n",
       "      <th>1422895</th>\n",
       "      <td>Hamlet</td>\n",
       "      <td>1910</td>\n",
       "      <td>Jean Mounet-Sully</td>\n",
       "      <td>actor</td>\n",
       "      <td>Hamlet</td>\n",
       "      <td>NaN</td>\n",
       "    </tr>\n",
       "    <tr>\n",
       "      <th>3091449</th>\n",
       "      <td>Hamlet</td>\n",
       "      <td>1911</td>\n",
       "      <td>Emilie Sannom</td>\n",
       "      <td>actress</td>\n",
       "      <td>Ophelia</td>\n",
       "      <td>4.0</td>\n",
       "    </tr>\n",
       "    <tr>\n",
       "      <th>879545</th>\n",
       "      <td>Hamlet</td>\n",
       "      <td>1911</td>\n",
       "      <td>Aage Hertel</td>\n",
       "      <td>actor</td>\n",
       "      <td>Claudius</td>\n",
       "      <td>2.0</td>\n",
       "    </tr>\n",
       "    <tr>\n",
       "      <th>2227654</th>\n",
       "      <td>Hamlet</td>\n",
       "      <td>1911</td>\n",
       "      <td>Einar Zangenberg</td>\n",
       "      <td>actor</td>\n",
       "      <td>Laertes</td>\n",
       "      <td>5.0</td>\n",
       "    </tr>\n",
       "    <tr>\n",
       "      <th>1134887</th>\n",
       "      <td>Hamlet</td>\n",
       "      <td>1911</td>\n",
       "      <td>Oscar Langkilde</td>\n",
       "      <td>actor</td>\n",
       "      <td>Horatio</td>\n",
       "      <td>6.0</td>\n",
       "    </tr>\n",
       "    <tr>\n",
       "      <th>...</th>\n",
       "      <td>...</td>\n",
       "      <td>...</td>\n",
       "      <td>...</td>\n",
       "      <td>...</td>\n",
       "      <td>...</td>\n",
       "      <td>...</td>\n",
       "    </tr>\n",
       "    <tr>\n",
       "      <th>2988862</th>\n",
       "      <td>Hamlet</td>\n",
       "      <td>2015</td>\n",
       "      <td>Maxine Peake</td>\n",
       "      <td>actress</td>\n",
       "      <td>Hamlet</td>\n",
       "      <td>1.0</td>\n",
       "    </tr>\n",
       "    <tr>\n",
       "      <th>72529</th>\n",
       "      <td>Hamlet</td>\n",
       "      <td>2015</td>\n",
       "      <td>Thomas (II) Arnold</td>\n",
       "      <td>actor</td>\n",
       "      <td>Horatio</td>\n",
       "      <td>5.0</td>\n",
       "    </tr>\n",
       "    <tr>\n",
       "      <th>2328072</th>\n",
       "      <td>Hamlet</td>\n",
       "      <td>2015</td>\n",
       "      <td>Gillian Bevan</td>\n",
       "      <td>actress</td>\n",
       "      <td>Polonia</td>\n",
       "      <td>4.0</td>\n",
       "    </tr>\n",
       "    <tr>\n",
       "      <th>2856069</th>\n",
       "      <td>Hamlet</td>\n",
       "      <td>2015</td>\n",
       "      <td>Barbara Marten</td>\n",
       "      <td>actress</td>\n",
       "      <td>Gertrude</td>\n",
       "      <td>3.0</td>\n",
       "    </tr>\n",
       "    <tr>\n",
       "      <th>1856419</th>\n",
       "      <td>Hamlet</td>\n",
       "      <td>2015</td>\n",
       "      <td>John Shrapnel</td>\n",
       "      <td>actor</td>\n",
       "      <td>Claudius</td>\n",
       "      <td>2.0</td>\n",
       "    </tr>\n",
       "  </tbody>\n",
       "</table>\n",
       "<p>299 rows × 6 columns</p>\n",
       "</div>"
      ],
      "text/plain": [
       "          title  year                name     type character    n\n",
       "1422895  Hamlet  1910   Jean Mounet-Sully    actor    Hamlet  NaN\n",
       "3091449  Hamlet  1911       Emilie Sannom  actress   Ophelia  4.0\n",
       "879545   Hamlet  1911         Aage Hertel    actor  Claudius  2.0\n",
       "2227654  Hamlet  1911    Einar Zangenberg    actor   Laertes  5.0\n",
       "1134887  Hamlet  1911     Oscar Langkilde    actor   Horatio  6.0\n",
       "...         ...   ...                 ...      ...       ...  ...\n",
       "2988862  Hamlet  2015        Maxine Peake  actress    Hamlet  1.0\n",
       "72529    Hamlet  2015  Thomas (II) Arnold    actor   Horatio  5.0\n",
       "2328072  Hamlet  2015       Gillian Bevan  actress   Polonia  4.0\n",
       "2856069  Hamlet  2015      Barbara Marten  actress  Gertrude  3.0\n",
       "1856419  Hamlet  2015       John Shrapnel    actor  Claudius  2.0\n",
       "\n",
       "[299 rows x 6 columns]"
      ]
     },
     "execution_count": 4,
     "metadata": {},
     "output_type": "execute_result"
    }
   ],
   "source": [
    "cast[cast[\"title\"]==\"Hamlet\"].sort_values(\"year\")"
   ]
  },
  {
   "cell_type": "code",
   "execution_count": 10,
   "id": "7b073c1d",
   "metadata": {},
   "outputs": [
    {
     "data": {
      "text/html": [
       "<div>\n",
       "<style scoped>\n",
       "    .dataframe tbody tr th:only-of-type {\n",
       "        vertical-align: middle;\n",
       "    }\n",
       "\n",
       "    .dataframe tbody tr th {\n",
       "        vertical-align: top;\n",
       "    }\n",
       "\n",
       "    .dataframe thead th {\n",
       "        text-align: right;\n",
       "    }\n",
       "</style>\n",
       "<table border=\"1\" class=\"dataframe\">\n",
       "  <thead>\n",
       "    <tr style=\"text-align: right;\">\n",
       "      <th></th>\n",
       "      <th>title</th>\n",
       "      <th>year</th>\n",
       "      <th>name</th>\n",
       "      <th>type</th>\n",
       "      <th>character</th>\n",
       "      <th>n</th>\n",
       "    </tr>\n",
       "  </thead>\n",
       "  <tbody>\n",
       "    <tr>\n",
       "      <th>1304778</th>\n",
       "      <td>Treasure Island</td>\n",
       "      <td>1918</td>\n",
       "      <td>Herschel Mayall</td>\n",
       "      <td>actor</td>\n",
       "      <td>Prologue Player</td>\n",
       "      <td>NaN</td>\n",
       "    </tr>\n",
       "    <tr>\n",
       "      <th>3258893</th>\n",
       "      <td>Treasure Island</td>\n",
       "      <td>1918</td>\n",
       "      <td>Eleanor Washington</td>\n",
       "      <td>actress</td>\n",
       "      <td>Prologue Player</td>\n",
       "      <td>NaN</td>\n",
       "    </tr>\n",
       "    <tr>\n",
       "      <th>3026895</th>\n",
       "      <td>Treasure Island</td>\n",
       "      <td>1918</td>\n",
       "      <td>Violet Radcliffe</td>\n",
       "      <td>actress</td>\n",
       "      <td>Long John Silver</td>\n",
       "      <td>3.0</td>\n",
       "    </tr>\n",
       "    <tr>\n",
       "      <th>1160631</th>\n",
       "      <td>Treasure Island</td>\n",
       "      <td>1918</td>\n",
       "      <td>Raymond Lee</td>\n",
       "      <td>actor</td>\n",
       "      <td>Bit Role</td>\n",
       "      <td>NaN</td>\n",
       "    </tr>\n",
       "    <tr>\n",
       "      <th>1188122</th>\n",
       "      <td>Treasure Island</td>\n",
       "      <td>1918</td>\n",
       "      <td>Elmo Lincoln</td>\n",
       "      <td>actor</td>\n",
       "      <td>Prologue Player</td>\n",
       "      <td>NaN</td>\n",
       "    </tr>\n",
       "    <tr>\n",
       "      <th>...</th>\n",
       "      <td>...</td>\n",
       "      <td>...</td>\n",
       "      <td>...</td>\n",
       "      <td>...</td>\n",
       "      <td>...</td>\n",
       "      <td>...</td>\n",
       "    </tr>\n",
       "    <tr>\n",
       "      <th>1653669</th>\n",
       "      <td>Treasure Island</td>\n",
       "      <td>1999</td>\n",
       "      <td>Victor Raider-Wexler</td>\n",
       "      <td>actor</td>\n",
       "      <td>Samowitz</td>\n",
       "      <td>10.0</td>\n",
       "    </tr>\n",
       "    <tr>\n",
       "      <th>1720561</th>\n",
       "      <td>Treasure Island</td>\n",
       "      <td>1999</td>\n",
       "      <td>Scot Thomas Robinson</td>\n",
       "      <td>actor</td>\n",
       "      <td>Jimmy</td>\n",
       "      <td>11.0</td>\n",
       "    </tr>\n",
       "    <tr>\n",
       "      <th>1802485</th>\n",
       "      <td>Treasure Island</td>\n",
       "      <td>1999</td>\n",
       "      <td>Richard Schave</td>\n",
       "      <td>actor</td>\n",
       "      <td>Man</td>\n",
       "      <td>21.0</td>\n",
       "    </tr>\n",
       "    <tr>\n",
       "      <th>2693149</th>\n",
       "      <td>Treasure Island</td>\n",
       "      <td>1999</td>\n",
       "      <td>Stephanie Ittleson</td>\n",
       "      <td>actress</td>\n",
       "      <td>Stella</td>\n",
       "      <td>7.0</td>\n",
       "    </tr>\n",
       "    <tr>\n",
       "      <th>810348</th>\n",
       "      <td>Treasure Island</td>\n",
       "      <td>1999</td>\n",
       "      <td>Rio Hackford</td>\n",
       "      <td>actor</td>\n",
       "      <td>Hans</td>\n",
       "      <td>23.0</td>\n",
       "    </tr>\n",
       "  </tbody>\n",
       "</table>\n",
       "<p>187 rows × 6 columns</p>\n",
       "</div>"
      ],
      "text/plain": [
       "                   title  year                  name     type  \\\n",
       "1304778  Treasure Island  1918       Herschel Mayall    actor   \n",
       "3258893  Treasure Island  1918    Eleanor Washington  actress   \n",
       "3026895  Treasure Island  1918      Violet Radcliffe  actress   \n",
       "1160631  Treasure Island  1918           Raymond Lee    actor   \n",
       "1188122  Treasure Island  1918          Elmo Lincoln    actor   \n",
       "...                  ...   ...                   ...      ...   \n",
       "1653669  Treasure Island  1999  Victor Raider-Wexler    actor   \n",
       "1720561  Treasure Island  1999  Scot Thomas Robinson    actor   \n",
       "1802485  Treasure Island  1999        Richard Schave    actor   \n",
       "2693149  Treasure Island  1999    Stephanie Ittleson  actress   \n",
       "810348   Treasure Island  1999          Rio Hackford    actor   \n",
       "\n",
       "                character     n  \n",
       "1304778   Prologue Player   NaN  \n",
       "3258893   Prologue Player   NaN  \n",
       "3026895  Long John Silver   3.0  \n",
       "1160631          Bit Role   NaN  \n",
       "1188122   Prologue Player   NaN  \n",
       "...                   ...   ...  \n",
       "1653669          Samowitz  10.0  \n",
       "1720561             Jimmy  11.0  \n",
       "1802485               Man  21.0  \n",
       "2693149            Stella   7.0  \n",
       "810348               Hans  23.0  \n",
       "\n",
       "[187 rows x 6 columns]"
      ]
     },
     "execution_count": 10,
     "metadata": {},
     "output_type": "execute_result"
    }
   ],
   "source": [
    "cast[cast[\"title\"]==\"Treasure Island\"].sort_values(\"year\")"
   ]
  },
  {
   "cell_type": "code",
   "execution_count": 11,
   "id": "597454c4",
   "metadata": {},
   "outputs": [
    {
     "data": {
      "text/plain": [
       "10377"
      ]
     },
     "execution_count": 11,
     "metadata": {},
     "output_type": "execute_result"
    }
   ],
   "source": [
    "cast[cast[\"year\"]==1950].value_counts().sum()"
   ]
  },
  {
   "cell_type": "code",
   "execution_count": 12,
   "id": "6b5d97e8",
   "metadata": {},
   "outputs": [
    {
     "data": {
      "text/plain": [
       "title              0\n",
       "year               0\n",
       "name               0\n",
       "type               0\n",
       "character          0\n",
       "n            1242072\n",
       "dtype: int64"
      ]
     },
     "execution_count": 12,
     "metadata": {},
     "output_type": "execute_result"
    }
   ],
   "source": [
    "cast.isna().sum()"
   ]
  },
  {
   "cell_type": "code",
   "execution_count": 13,
   "id": "6c78397b",
   "metadata": {},
   "outputs": [
    {
     "data": {
      "text/plain": [
       "11179"
      ]
     },
     "execution_count": 13,
     "metadata": {},
     "output_type": "execute_result"
    }
   ],
   "source": [
    "cast[cast[\"year\"]==1960].value_counts().sum()"
   ]
  },
  {
   "cell_type": "code",
   "execution_count": 20,
   "id": "ddf7115d",
   "metadata": {},
   "outputs": [
    {
     "data": {
      "text/plain": [
       "111516"
      ]
     },
     "execution_count": 20,
     "metadata": {},
     "output_type": "execute_result"
    }
   ],
   "source": [
    "cast[(cast[\"year\"]>=1950) & (cast[\"year\"]<=1959) ].value_counts().sum()"
   ]
  },
  {
   "cell_type": "code",
   "execution_count": null,
   "id": "d9d47239",
   "metadata": {},
   "outputs": [],
   "source": [
    "cast[cast.year.isin([])].sum()"
   ]
  },
  {
   "cell_type": "code",
   "execution_count": 22,
   "id": "db98336b",
   "metadata": {},
   "outputs": [
    {
     "data": {
      "text/html": [
       "<div>\n",
       "<style scoped>\n",
       "    .dataframe tbody tr th:only-of-type {\n",
       "        vertical-align: middle;\n",
       "    }\n",
       "\n",
       "    .dataframe tbody tr th {\n",
       "        vertical-align: top;\n",
       "    }\n",
       "\n",
       "    .dataframe thead th {\n",
       "        text-align: right;\n",
       "    }\n",
       "</style>\n",
       "<table border=\"1\" class=\"dataframe\">\n",
       "  <thead>\n",
       "    <tr style=\"text-align: right;\">\n",
       "      <th></th>\n",
       "      <th>title</th>\n",
       "      <th>year</th>\n",
       "      <th>name</th>\n",
       "      <th>type</th>\n",
       "      <th>character</th>\n",
       "      <th>n</th>\n",
       "    </tr>\n",
       "  </thead>\n",
       "  <tbody>\n",
       "    <tr>\n",
       "      <th>86823</th>\n",
       "      <td>Batman</td>\n",
       "      <td>1943</td>\n",
       "      <td>Frank Austin</td>\n",
       "      <td>actor</td>\n",
       "      <td>Hotel Clerk</td>\n",
       "      <td>NaN</td>\n",
       "    </tr>\n",
       "  </tbody>\n",
       "</table>\n",
       "</div>"
      ],
      "text/plain": [
       "        title  year          name   type    character   n\n",
       "86823  Batman  1943  Frank Austin  actor  Hotel Clerk NaN"
      ]
     },
     "execution_count": 22,
     "metadata": {},
     "output_type": "execute_result"
    }
   ],
   "source": [
    "cast[cast[\"title\"]==\"Batman\"].sort_values(\"year\").head(1)"
   ]
  },
  {
   "cell_type": "code",
   "execution_count": 28,
   "id": "bc98677b",
   "metadata": {},
   "outputs": [
    {
     "data": {
      "text/plain": [
       "actor      53\n",
       "actress    19\n",
       "Name: type, dtype: int64"
      ]
     },
     "execution_count": 28,
     "metadata": {},
     "output_type": "execute_result"
    }
   ],
   "source": [
    "cast[cast[\"title\"]==\"Inception\"].type.value_counts()"
   ]
  },
  {
   "cell_type": "code",
   "execution_count": 46,
   "id": "7eee516b",
   "metadata": {},
   "outputs": [
    {
     "data": {
      "text/plain": [
       "actor      19\n",
       "actress     2\n",
       "Name: type, dtype: int64"
      ]
     },
     "execution_count": 46,
     "metadata": {},
     "output_type": "execute_result"
    }
   ],
   "source": [
    "cast[(cast[\"title\"]==\"Inception\") & (cast.n.isna())].type.value_counts()\n"
   ]
  },
  {
   "cell_type": "code",
   "execution_count": 66,
   "id": "d1742201",
   "metadata": {},
   "outputs": [
    {
     "data": {
      "text/html": [
       "<div>\n",
       "<style scoped>\n",
       "    .dataframe tbody tr th:only-of-type {\n",
       "        vertical-align: middle;\n",
       "    }\n",
       "\n",
       "    .dataframe tbody tr th {\n",
       "        vertical-align: top;\n",
       "    }\n",
       "\n",
       "    .dataframe thead th {\n",
       "        text-align: right;\n",
       "    }\n",
       "</style>\n",
       "<table border=\"1\" class=\"dataframe\">\n",
       "  <thead>\n",
       "    <tr style=\"text-align: right;\">\n",
       "      <th></th>\n",
       "      <th>title</th>\n",
       "      <th>year</th>\n",
       "      <th>name</th>\n",
       "      <th>type</th>\n",
       "      <th>character</th>\n",
       "      <th>n</th>\n",
       "    </tr>\n",
       "  </thead>\n",
       "  <tbody>\n",
       "    <tr>\n",
       "      <th>85565</th>\n",
       "      <td>Inception</td>\n",
       "      <td>2010</td>\n",
       "      <td>Michael (III) August</td>\n",
       "      <td>actor</td>\n",
       "      <td>LAX Passenger</td>\n",
       "      <td>NaN</td>\n",
       "    </tr>\n",
       "    <tr>\n",
       "      <th>130207</th>\n",
       "      <td>Inception</td>\n",
       "      <td>2010</td>\n",
       "      <td>Peter Basham</td>\n",
       "      <td>actor</td>\n",
       "      <td>Fischer's Jet Captain</td>\n",
       "      <td>44.0</td>\n",
       "    </tr>\n",
       "    <tr>\n",
       "      <th>161273</th>\n",
       "      <td>Inception</td>\n",
       "      <td>2010</td>\n",
       "      <td>Tom Berenger</td>\n",
       "      <td>actor</td>\n",
       "      <td>Browning</td>\n",
       "      <td>8.0</td>\n",
       "    </tr>\n",
       "    <tr>\n",
       "      <th>173593</th>\n",
       "      <td>Inception</td>\n",
       "      <td>2010</td>\n",
       "      <td>Ken Bhan</td>\n",
       "      <td>actor</td>\n",
       "      <td>Mombasan Gambler</td>\n",
       "      <td>NaN</td>\n",
       "    </tr>\n",
       "    <tr>\n",
       "      <th>228660</th>\n",
       "      <td>Inception</td>\n",
       "      <td>2010</td>\n",
       "      <td>Virgile Bramly</td>\n",
       "      <td>actor</td>\n",
       "      <td>Bridge Sub Con</td>\n",
       "      <td>29.0</td>\n",
       "    </tr>\n",
       "    <tr>\n",
       "      <th>...</th>\n",
       "      <td>...</td>\n",
       "      <td>...</td>\n",
       "      <td>...</td>\n",
       "      <td>...</td>\n",
       "      <td>...</td>\n",
       "      <td>...</td>\n",
       "    </tr>\n",
       "    <tr>\n",
       "      <th>2972865</th>\n",
       "      <td>Inception</td>\n",
       "      <td>2010</td>\n",
       "      <td>Ellen Page</td>\n",
       "      <td>actress</td>\n",
       "      <td>Ariadne</td>\n",
       "      <td>3.0</td>\n",
       "    </tr>\n",
       "    <tr>\n",
       "      <th>3021835</th>\n",
       "      <td>Inception</td>\n",
       "      <td>2010</td>\n",
       "      <td>Nicole Pulliam</td>\n",
       "      <td>actress</td>\n",
       "      <td>Lobby Sub Con</td>\n",
       "      <td>43.0</td>\n",
       "    </tr>\n",
       "    <tr>\n",
       "      <th>3045839</th>\n",
       "      <td>Inception</td>\n",
       "      <td>2010</td>\n",
       "      <td>Lisa (II) Reynolds</td>\n",
       "      <td>actress</td>\n",
       "      <td>Private Nurse</td>\n",
       "      <td>48.0</td>\n",
       "    </tr>\n",
       "    <tr>\n",
       "      <th>3051953</th>\n",
       "      <td>Inception</td>\n",
       "      <td>2010</td>\n",
       "      <td>Talulah Riley</td>\n",
       "      <td>actress</td>\n",
       "      <td>Blonde</td>\n",
       "      <td>25.0</td>\n",
       "    </tr>\n",
       "    <tr>\n",
       "      <th>3265183</th>\n",
       "      <td>Inception</td>\n",
       "      <td>2010</td>\n",
       "      <td>Shannon Welles</td>\n",
       "      <td>actress</td>\n",
       "      <td>Old Mal</td>\n",
       "      <td>51.0</td>\n",
       "    </tr>\n",
       "  </tbody>\n",
       "</table>\n",
       "<p>72 rows × 6 columns</p>\n",
       "</div>"
      ],
      "text/plain": [
       "             title  year                  name     type  \\\n",
       "85565    Inception  2010  Michael (III) August    actor   \n",
       "130207   Inception  2010          Peter Basham    actor   \n",
       "161273   Inception  2010          Tom Berenger    actor   \n",
       "173593   Inception  2010              Ken Bhan    actor   \n",
       "228660   Inception  2010        Virgile Bramly    actor   \n",
       "...            ...   ...                   ...      ...   \n",
       "2972865  Inception  2010            Ellen Page  actress   \n",
       "3021835  Inception  2010        Nicole Pulliam  actress   \n",
       "3045839  Inception  2010    Lisa (II) Reynolds  actress   \n",
       "3051953  Inception  2010         Talulah Riley  actress   \n",
       "3265183  Inception  2010        Shannon Welles  actress   \n",
       "\n",
       "                     character     n  \n",
       "85565            LAX Passenger   NaN  \n",
       "130207   Fischer's Jet Captain  44.0  \n",
       "161273                Browning   8.0  \n",
       "173593        Mombasan Gambler   NaN  \n",
       "228660          Bridge Sub Con  29.0  \n",
       "...                        ...   ...  \n",
       "2972865                Ariadne   3.0  \n",
       "3021835          Lobby Sub Con  43.0  \n",
       "3045839          Private Nurse  48.0  \n",
       "3051953                 Blonde  25.0  \n",
       "3265183                Old Mal  51.0  \n",
       "\n",
       "[72 rows x 6 columns]"
      ]
     },
     "execution_count": 66,
     "metadata": {},
     "output_type": "execute_result"
    }
   ],
   "source": [
    "cast[(cast[\"title\"]==\"Inception\") & (cast[\"n\"]!=cast.n.isna())]"
   ]
  },
  {
   "cell_type": "code",
   "execution_count": 62,
   "id": "73318025",
   "metadata": {},
   "outputs": [
    {
     "data": {
      "text/html": [
       "<div>\n",
       "<style scoped>\n",
       "    .dataframe tbody tr th:only-of-type {\n",
       "        vertical-align: middle;\n",
       "    }\n",
       "\n",
       "    .dataframe tbody tr th {\n",
       "        vertical-align: top;\n",
       "    }\n",
       "\n",
       "    .dataframe thead th {\n",
       "        text-align: right;\n",
       "    }\n",
       "</style>\n",
       "<table border=\"1\" class=\"dataframe\">\n",
       "  <thead>\n",
       "    <tr style=\"text-align: right;\">\n",
       "      <th></th>\n",
       "      <th>title</th>\n",
       "      <th>year</th>\n",
       "      <th>name</th>\n",
       "      <th>type</th>\n",
       "      <th>character</th>\n",
       "      <th>n</th>\n",
       "    </tr>\n",
       "  </thead>\n",
       "  <tbody>\n",
       "    <tr>\n",
       "      <th>773496</th>\n",
       "      <td>North by Northwest</td>\n",
       "      <td>1959</td>\n",
       "      <td>Cary Grant</td>\n",
       "      <td>actor</td>\n",
       "      <td>Roger O. Thornhill</td>\n",
       "      <td>1.0</td>\n",
       "    </tr>\n",
       "    <tr>\n",
       "      <th>3084579</th>\n",
       "      <td>North by Northwest</td>\n",
       "      <td>1959</td>\n",
       "      <td>Eva Marie Saint</td>\n",
       "      <td>actress</td>\n",
       "      <td>Eve Kendall</td>\n",
       "      <td>2.0</td>\n",
       "    </tr>\n",
       "    <tr>\n",
       "      <th>1292652</th>\n",
       "      <td>North by Northwest</td>\n",
       "      <td>1959</td>\n",
       "      <td>James Mason</td>\n",
       "      <td>actor</td>\n",
       "      <td>Phillip Vandamm</td>\n",
       "      <td>3.0</td>\n",
       "    </tr>\n",
       "    <tr>\n",
       "      <th>2776446</th>\n",
       "      <td>North by Northwest</td>\n",
       "      <td>1959</td>\n",
       "      <td>Jessie Royce Landis</td>\n",
       "      <td>actress</td>\n",
       "      <td>Clara Thornhill</td>\n",
       "      <td>4.0</td>\n",
       "    </tr>\n",
       "    <tr>\n",
       "      <th>315343</th>\n",
       "      <td>North by Northwest</td>\n",
       "      <td>1959</td>\n",
       "      <td>Leo G. Carroll</td>\n",
       "      <td>actor</td>\n",
       "      <td>The Professor</td>\n",
       "      <td>5.0</td>\n",
       "    </tr>\n",
       "    <tr>\n",
       "      <th>...</th>\n",
       "      <td>...</td>\n",
       "      <td>...</td>\n",
       "      <td>...</td>\n",
       "      <td>...</td>\n",
       "      <td>...</td>\n",
       "      <td>...</td>\n",
       "    </tr>\n",
       "    <tr>\n",
       "      <th>3018885</th>\n",
       "      <td>North by Northwest</td>\n",
       "      <td>1959</td>\n",
       "      <td>Maudie Prickett</td>\n",
       "      <td>actress</td>\n",
       "      <td>Elsie - Maid</td>\n",
       "      <td>NaN</td>\n",
       "    </tr>\n",
       "    <tr>\n",
       "      <th>3134194</th>\n",
       "      <td>North by Northwest</td>\n",
       "      <td>1959</td>\n",
       "      <td>Doris Singh</td>\n",
       "      <td>actress</td>\n",
       "      <td>First United Nations Receptionist</td>\n",
       "      <td>NaN</td>\n",
       "    </tr>\n",
       "    <tr>\n",
       "      <th>3153156</th>\n",
       "      <td>North by Northwest</td>\n",
       "      <td>1959</td>\n",
       "      <td>Helen Spring</td>\n",
       "      <td>actress</td>\n",
       "      <td>Bidder</td>\n",
       "      <td>NaN</td>\n",
       "    </tr>\n",
       "    <tr>\n",
       "      <th>3271974</th>\n",
       "      <td>North by Northwest</td>\n",
       "      <td>1959</td>\n",
       "      <td>Susan Whitney</td>\n",
       "      <td>actress</td>\n",
       "      <td>Attendant</td>\n",
       "      <td>NaN</td>\n",
       "    </tr>\n",
       "    <tr>\n",
       "      <th>3282483</th>\n",
       "      <td>North by Northwest</td>\n",
       "      <td>1959</td>\n",
       "      <td>Paula Winslowe</td>\n",
       "      <td>actress</td>\n",
       "      <td>Woman at Auction</td>\n",
       "      <td>NaN</td>\n",
       "    </tr>\n",
       "  </tbody>\n",
       "</table>\n",
       "<p>111 rows × 6 columns</p>\n",
       "</div>"
      ],
      "text/plain": [
       "                      title  year                 name     type  \\\n",
       "773496   North by Northwest  1959           Cary Grant    actor   \n",
       "3084579  North by Northwest  1959      Eva Marie Saint  actress   \n",
       "1292652  North by Northwest  1959          James Mason    actor   \n",
       "2776446  North by Northwest  1959  Jessie Royce Landis  actress   \n",
       "315343   North by Northwest  1959       Leo G. Carroll    actor   \n",
       "...                     ...   ...                  ...      ...   \n",
       "3018885  North by Northwest  1959      Maudie Prickett  actress   \n",
       "3134194  North by Northwest  1959          Doris Singh  actress   \n",
       "3153156  North by Northwest  1959         Helen Spring  actress   \n",
       "3271974  North by Northwest  1959        Susan Whitney  actress   \n",
       "3282483  North by Northwest  1959       Paula Winslowe  actress   \n",
       "\n",
       "                                 character    n  \n",
       "773496                  Roger O. Thornhill  1.0  \n",
       "3084579                        Eve Kendall  2.0  \n",
       "1292652                    Phillip Vandamm  3.0  \n",
       "2776446                    Clara Thornhill  4.0  \n",
       "315343                       The Professor  5.0  \n",
       "...                                    ...  ...  \n",
       "3018885                       Elsie - Maid  NaN  \n",
       "3134194  First United Nations Receptionist  NaN  \n",
       "3153156                             Bidder  NaN  \n",
       "3271974                          Attendant  NaN  \n",
       "3282483                   Woman at Auction  NaN  \n",
       "\n",
       "[111 rows x 6 columns]"
      ]
     },
     "execution_count": 62,
     "metadata": {},
     "output_type": "execute_result"
    }
   ],
   "source": [
    "cast[cast[\"title\"]==\"North by Northwest\"].sort_values(\"n\")"
   ]
  },
  {
   "cell_type": "code",
   "execution_count": 69,
   "id": "7bdc02bc",
   "metadata": {},
   "outputs": [
    {
     "data": {
      "text/html": [
       "<div>\n",
       "<style scoped>\n",
       "    .dataframe tbody tr th:only-of-type {\n",
       "        vertical-align: middle;\n",
       "    }\n",
       "\n",
       "    .dataframe tbody tr th {\n",
       "        vertical-align: top;\n",
       "    }\n",
       "\n",
       "    .dataframe thead th {\n",
       "        text-align: right;\n",
       "    }\n",
       "</style>\n",
       "<table border=\"1\" class=\"dataframe\">\n",
       "  <thead>\n",
       "    <tr style=\"text-align: right;\">\n",
       "      <th></th>\n",
       "      <th>title</th>\n",
       "      <th>year</th>\n",
       "      <th>name</th>\n",
       "      <th>type</th>\n",
       "      <th>character</th>\n",
       "      <th>n</th>\n",
       "    </tr>\n",
       "  </thead>\n",
       "  <tbody>\n",
       "    <tr>\n",
       "      <th>1513570</th>\n",
       "      <td>Sleuth</td>\n",
       "      <td>1972</td>\n",
       "      <td>Laurence Olivier</td>\n",
       "      <td>actor</td>\n",
       "      <td>Andrew Wyke</td>\n",
       "      <td>1.0</td>\n",
       "    </tr>\n",
       "    <tr>\n",
       "      <th>288502</th>\n",
       "      <td>Sleuth</td>\n",
       "      <td>1972</td>\n",
       "      <td>Michael Caine</td>\n",
       "      <td>actor</td>\n",
       "      <td>Milo Tindle</td>\n",
       "      <td>2.0</td>\n",
       "    </tr>\n",
       "    <tr>\n",
       "      <th>330750</th>\n",
       "      <td>Sleuth</td>\n",
       "      <td>1972</td>\n",
       "      <td>Alec Cawthorne</td>\n",
       "      <td>actor</td>\n",
       "      <td>Inspector Doppler</td>\n",
       "      <td>3.0</td>\n",
       "    </tr>\n",
       "    <tr>\n",
       "      <th>1299944</th>\n",
       "      <td>Sleuth</td>\n",
       "      <td>1972</td>\n",
       "      <td>John (II) Matthews</td>\n",
       "      <td>actor</td>\n",
       "      <td>Detective Sergeant Tarrant</td>\n",
       "      <td>4.0</td>\n",
       "    </tr>\n",
       "    <tr>\n",
       "      <th>2406762</th>\n",
       "      <td>Sleuth</td>\n",
       "      <td>1972</td>\n",
       "      <td>Eve (III) Channing</td>\n",
       "      <td>actress</td>\n",
       "      <td>Marguerite Wyke</td>\n",
       "      <td>5.0</td>\n",
       "    </tr>\n",
       "    <tr>\n",
       "      <th>1285278</th>\n",
       "      <td>Sleuth</td>\n",
       "      <td>1972</td>\n",
       "      <td>Teddy Martin</td>\n",
       "      <td>actor</td>\n",
       "      <td>Police Constable Higgs</td>\n",
       "      <td>6.0</td>\n",
       "    </tr>\n",
       "  </tbody>\n",
       "</table>\n",
       "</div>"
      ],
      "text/plain": [
       "          title  year                name     type  \\\n",
       "1513570  Sleuth  1972    Laurence Olivier    actor   \n",
       "288502   Sleuth  1972       Michael Caine    actor   \n",
       "330750   Sleuth  1972      Alec Cawthorne    actor   \n",
       "1299944  Sleuth  1972  John (II) Matthews    actor   \n",
       "2406762  Sleuth  1972  Eve (III) Channing  actress   \n",
       "1285278  Sleuth  1972        Teddy Martin    actor   \n",
       "\n",
       "                          character    n  \n",
       "1513570                 Andrew Wyke  1.0  \n",
       "288502                  Milo Tindle  2.0  \n",
       "330750            Inspector Doppler  3.0  \n",
       "1299944  Detective Sergeant Tarrant  4.0  \n",
       "2406762             Marguerite Wyke  5.0  \n",
       "1285278      Police Constable Higgs  6.0  "
      ]
     },
     "execution_count": 69,
     "metadata": {},
     "output_type": "execute_result"
    }
   ],
   "source": [
    "cast[(cast[\"title\"]==\"Sleuth\") & (cast[\"year\"]==1972)].sort_values(\"n\")"
   ]
  },
  {
   "cell_type": "code",
   "execution_count": 75,
   "id": "09b181f2",
   "metadata": {},
   "outputs": [
    {
     "data": {
      "text/plain": [
       "9"
      ]
     },
     "execution_count": 75,
     "metadata": {},
     "output_type": "execute_result"
    }
   ],
   "source": [
    "cast[(cast[\"title\"]==\"Hamlet\") & (cast[\"year\"]==1921)].character.value_counts().sum()"
   ]
  },
  {
   "cell_type": "code",
   "execution_count": 84,
   "id": "d0674b50",
   "metadata": {},
   "outputs": [
    {
     "data": {
      "text/plain": [
       "55"
      ]
     },
     "execution_count": 84,
     "metadata": {},
     "output_type": "execute_result"
    }
   ],
   "source": [
    "cast[(cast[\"title\"]==\"Hamlet\") & (cast[\"year\"]==1996)].character.value_counts().sum()"
   ]
  },
  {
   "cell_type": "code",
   "execution_count": 103,
   "id": "87bb9a6c",
   "metadata": {},
   "outputs": [
    {
     "data": {
      "text/plain": [
       "Hamlet    81\n",
       "Name: character, dtype: int64"
      ]
     },
     "execution_count": 103,
     "metadata": {},
     "output_type": "execute_result"
    }
   ],
   "source": [
    "cast[cast[\"character\"]==\"Hamlet\"].character.value_counts()"
   ]
  },
  {
   "cell_type": "code",
   "execution_count": 109,
   "id": "ed26f18c",
   "metadata": {},
   "outputs": [
    {
     "data": {
      "text/plain": [
       "96"
      ]
     },
     "execution_count": 109,
     "metadata": {},
     "output_type": "execute_result"
    }
   ],
   "source": [
    "cast[cast[\"character\"]==\"Ophelia\"].character.value_counts().sum()"
   ]
  },
  {
   "cell_type": "code",
   "execution_count": 112,
   "id": "80444ef3",
   "metadata": {},
   "outputs": [
    {
     "data": {
      "text/plain": [
       "16"
      ]
     },
     "execution_count": 112,
     "metadata": {},
     "output_type": "execute_result"
    }
   ],
   "source": [
    "cast[cast[\"character\"]==\"The Dude\"].character.value_counts().sum()"
   ]
  },
  {
   "cell_type": "code",
   "execution_count": 113,
   "id": "a580e9da",
   "metadata": {},
   "outputs": [
    {
     "data": {
      "text/plain": [
       "192"
      ]
     },
     "execution_count": 113,
     "metadata": {},
     "output_type": "execute_result"
    }
   ],
   "source": [
    "cast[cast[\"character\"]==\"The Stranger\"].character.value_counts().sum()"
   ]
  },
  {
   "cell_type": "code",
   "execution_count": 130,
   "id": "4b7f4125",
   "metadata": {},
   "outputs": [
    {
     "data": {
      "text/plain": [
       "43"
      ]
     },
     "execution_count": 130,
     "metadata": {},
     "output_type": "execute_result"
    }
   ],
   "source": [
    "cast[cast[\"name\"]==\"Sidney Poitier\"].name.value_counts().sum()"
   ]
  },
  {
   "cell_type": "code",
   "execution_count": 133,
   "id": "a053c49c",
   "metadata": {},
   "outputs": [
    {
     "data": {
      "text/plain": [
       "51"
      ]
     },
     "execution_count": 133,
     "metadata": {},
     "output_type": "execute_result"
    }
   ],
   "source": [
    "cast[cast[\"name\"]==\"Judi Dench\"].name.value_counts().sum()"
   ]
  },
  {
   "cell_type": "code",
   "execution_count": 139,
   "id": "a5ba8ede",
   "metadata": {},
   "outputs": [
    {
     "data": {
      "text/plain": [
       "actress    5349\n",
       "Name: type, dtype: int64"
      ]
     },
     "execution_count": 139,
     "metadata": {},
     "output_type": "execute_result"
    }
   ],
   "source": [
    "cast[(cast[\"type\"]==\"actress\") & (cast[\"year\"]==1950)].type.value_counts()"
   ]
  },
  {
   "cell_type": "code",
   "execution_count": 142,
   "id": "5b0abc10",
   "metadata": {},
   "outputs": [
    {
     "data": {
      "text/plain": [
       "1.0    61444\n",
       "Name: n, dtype: int64"
      ]
     },
     "execution_count": 142,
     "metadata": {},
     "output_type": "execute_result"
    }
   ],
   "source": [
    "cast[(cast[\"n\"]==1) & (cast[\"year\"]<=1980)].n.value_counts()"
   ]
  },
  {
   "cell_type": "code",
   "execution_count": 148,
   "id": "8c3bd326",
   "metadata": {},
   "outputs": [
    {
     "data": {
      "text/html": [
       "<div>\n",
       "<style scoped>\n",
       "    .dataframe tbody tr th:only-of-type {\n",
       "        vertical-align: middle;\n",
       "    }\n",
       "\n",
       "    .dataframe tbody tr th {\n",
       "        vertical-align: top;\n",
       "    }\n",
       "\n",
       "    .dataframe thead th {\n",
       "        text-align: right;\n",
       "    }\n",
       "</style>\n",
       "<table border=\"1\" class=\"dataframe\">\n",
       "  <thead>\n",
       "    <tr style=\"text-align: right;\">\n",
       "      <th></th>\n",
       "      <th>title</th>\n",
       "      <th>year</th>\n",
       "      <th>name</th>\n",
       "      <th>type</th>\n",
       "      <th>character</th>\n",
       "      <th>n</th>\n",
       "    </tr>\n",
       "  </thead>\n",
       "  <tbody>\n",
       "    <tr>\n",
       "      <th>454870</th>\n",
       "      <td>Potter</td>\n",
       "      <td>2015</td>\n",
       "      <td>Peter (II) D'Alfonso</td>\n",
       "      <td>actor</td>\n",
       "      <td>Harry Potter</td>\n",
       "      <td>NaN</td>\n",
       "    </tr>\n",
       "    <tr>\n",
       "      <th>1733766</th>\n",
       "      <td>Potter</td>\n",
       "      <td>2015</td>\n",
       "      <td>Joe (III) Romeo</td>\n",
       "      <td>actor</td>\n",
       "      <td>Ron Weasley</td>\n",
       "      <td>NaN</td>\n",
       "    </tr>\n",
       "    <tr>\n",
       "      <th>1991531</th>\n",
       "      <td>Potter</td>\n",
       "      <td>2015</td>\n",
       "      <td>Timothy Tedmanson</td>\n",
       "      <td>actor</td>\n",
       "      <td>Albus Dumbledore</td>\n",
       "      <td>NaN</td>\n",
       "    </tr>\n",
       "    <tr>\n",
       "      <th>2050909</th>\n",
       "      <td>Potter</td>\n",
       "      <td>2015</td>\n",
       "      <td>Lachlan Tyler-Dowd</td>\n",
       "      <td>actor</td>\n",
       "      <td>Bellatrix Lestrange</td>\n",
       "      <td>NaN</td>\n",
       "    </tr>\n",
       "    <tr>\n",
       "      <th>2390973</th>\n",
       "      <td>Potter</td>\n",
       "      <td>2015</td>\n",
       "      <td>Erin Carmichael</td>\n",
       "      <td>actress</td>\n",
       "      <td>Professor McGonagall</td>\n",
       "      <td>NaN</td>\n",
       "    </tr>\n",
       "    <tr>\n",
       "      <th>2426830</th>\n",
       "      <td>Potter</td>\n",
       "      <td>2015</td>\n",
       "      <td>Eloise Cobby-Smith</td>\n",
       "      <td>actress</td>\n",
       "      <td>Lavender Brown</td>\n",
       "      <td>NaN</td>\n",
       "    </tr>\n",
       "    <tr>\n",
       "      <th>2502284</th>\n",
       "      <td>Potter</td>\n",
       "      <td>2015</td>\n",
       "      <td>Jemma Dougan</td>\n",
       "      <td>actress</td>\n",
       "      <td>Severus Snape</td>\n",
       "      <td>NaN</td>\n",
       "    </tr>\n",
       "    <tr>\n",
       "      <th>2850659</th>\n",
       "      <td>Potter</td>\n",
       "      <td>2015</td>\n",
       "      <td>Elena Marie-Aloi</td>\n",
       "      <td>actress</td>\n",
       "      <td>Ginny Weasley</td>\n",
       "      <td>NaN</td>\n",
       "    </tr>\n",
       "    <tr>\n",
       "      <th>2907793</th>\n",
       "      <td>Potter</td>\n",
       "      <td>2015</td>\n",
       "      <td>Lorette Monoghan</td>\n",
       "      <td>actress</td>\n",
       "      <td>Molly Weasley</td>\n",
       "      <td>NaN</td>\n",
       "    </tr>\n",
       "    <tr>\n",
       "      <th>2924444</th>\n",
       "      <td>Potter</td>\n",
       "      <td>2015</td>\n",
       "      <td>Jasmin Muller</td>\n",
       "      <td>actress</td>\n",
       "      <td>Draco Malfoy</td>\n",
       "      <td>NaN</td>\n",
       "    </tr>\n",
       "    <tr>\n",
       "      <th>2924489</th>\n",
       "      <td>Potter</td>\n",
       "      <td>2015</td>\n",
       "      <td>Zoe Muller</td>\n",
       "      <td>actress</td>\n",
       "      <td>Moaning Myrtle</td>\n",
       "      <td>NaN</td>\n",
       "    </tr>\n",
       "    <tr>\n",
       "      <th>2967873</th>\n",
       "      <td>Potter</td>\n",
       "      <td>2015</td>\n",
       "      <td>Alice (IV) Osborne</td>\n",
       "      <td>actress</td>\n",
       "      <td>Fred Weasley</td>\n",
       "      <td>NaN</td>\n",
       "    </tr>\n",
       "    <tr>\n",
       "      <th>3048836</th>\n",
       "      <td>Potter</td>\n",
       "      <td>2015</td>\n",
       "      <td>Zara (II) Richards</td>\n",
       "      <td>actress</td>\n",
       "      <td>Lily Evans-Potter</td>\n",
       "      <td>NaN</td>\n",
       "    </tr>\n",
       "    <tr>\n",
       "      <th>3154030</th>\n",
       "      <td>Potter</td>\n",
       "      <td>2015</td>\n",
       "      <td>Rebecca St Clair</td>\n",
       "      <td>actress</td>\n",
       "      <td>James Potter</td>\n",
       "      <td>NaN</td>\n",
       "    </tr>\n",
       "    <tr>\n",
       "      <th>3157999</th>\n",
       "      <td>Potter</td>\n",
       "      <td>2015</td>\n",
       "      <td>Carli Stasinopoulos</td>\n",
       "      <td>actress</td>\n",
       "      <td>Lord Voldemort</td>\n",
       "      <td>NaN</td>\n",
       "    </tr>\n",
       "    <tr>\n",
       "      <th>3172529</th>\n",
       "      <td>Potter</td>\n",
       "      <td>2015</td>\n",
       "      <td>Mandy (II) Suggett</td>\n",
       "      <td>actress</td>\n",
       "      <td>Luna Lovegood</td>\n",
       "      <td>NaN</td>\n",
       "    </tr>\n",
       "    <tr>\n",
       "      <th>3174439</th>\n",
       "      <td>Potter</td>\n",
       "      <td>2015</td>\n",
       "      <td>Maddie Summers</td>\n",
       "      <td>actress</td>\n",
       "      <td>Hermione Granger</td>\n",
       "      <td>NaN</td>\n",
       "    </tr>\n",
       "    <tr>\n",
       "      <th>3176610</th>\n",
       "      <td>Potter</td>\n",
       "      <td>2015</td>\n",
       "      <td>Natsumi (III) Suzuki</td>\n",
       "      <td>actress</td>\n",
       "      <td>Cho Chang</td>\n",
       "      <td>NaN</td>\n",
       "    </tr>\n",
       "  </tbody>\n",
       "</table>\n",
       "</div>"
      ],
      "text/plain": [
       "          title  year                  name     type             character   n\n",
       "454870   Potter  2015  Peter (II) D'Alfonso    actor          Harry Potter NaN\n",
       "1733766  Potter  2015       Joe (III) Romeo    actor           Ron Weasley NaN\n",
       "1991531  Potter  2015     Timothy Tedmanson    actor      Albus Dumbledore NaN\n",
       "2050909  Potter  2015    Lachlan Tyler-Dowd    actor   Bellatrix Lestrange NaN\n",
       "2390973  Potter  2015       Erin Carmichael  actress  Professor McGonagall NaN\n",
       "2426830  Potter  2015    Eloise Cobby-Smith  actress        Lavender Brown NaN\n",
       "2502284  Potter  2015          Jemma Dougan  actress         Severus Snape NaN\n",
       "2850659  Potter  2015      Elena Marie-Aloi  actress         Ginny Weasley NaN\n",
       "2907793  Potter  2015      Lorette Monoghan  actress         Molly Weasley NaN\n",
       "2924444  Potter  2015         Jasmin Muller  actress          Draco Malfoy NaN\n",
       "2924489  Potter  2015            Zoe Muller  actress        Moaning Myrtle NaN\n",
       "2967873  Potter  2015    Alice (IV) Osborne  actress          Fred Weasley NaN\n",
       "3048836  Potter  2015    Zara (II) Richards  actress     Lily Evans-Potter NaN\n",
       "3154030  Potter  2015      Rebecca St Clair  actress          James Potter NaN\n",
       "3157999  Potter  2015   Carli Stasinopoulos  actress        Lord Voldemort NaN\n",
       "3172529  Potter  2015    Mandy (II) Suggett  actress         Luna Lovegood NaN\n",
       "3174439  Potter  2015        Maddie Summers  actress      Hermione Granger NaN\n",
       "3176610  Potter  2015  Natsumi (III) Suzuki  actress             Cho Chang NaN"
      ]
     },
     "execution_count": 148,
     "metadata": {},
     "output_type": "execute_result"
    }
   ],
   "source": [
    "cast[cast[\"title\"]==\"Potter\"]"
   ]
  },
  {
   "cell_type": "code",
   "execution_count": 152,
   "id": "c6175444",
   "metadata": {},
   "outputs": [
    {
     "data": {
      "text/html": [
       "<div>\n",
       "<style scoped>\n",
       "    .dataframe tbody tr th:only-of-type {\n",
       "        vertical-align: middle;\n",
       "    }\n",
       "\n",
       "    .dataframe tbody tr th {\n",
       "        vertical-align: top;\n",
       "    }\n",
       "\n",
       "    .dataframe thead th {\n",
       "        text-align: right;\n",
       "    }\n",
       "</style>\n",
       "<table border=\"1\" class=\"dataframe\">\n",
       "  <thead>\n",
       "    <tr style=\"text-align: right;\">\n",
       "      <th></th>\n",
       "      <th>title</th>\n",
       "      <th>year</th>\n",
       "      <th>name</th>\n",
       "      <th>type</th>\n",
       "      <th>character</th>\n",
       "      <th>n</th>\n",
       "    </tr>\n",
       "  </thead>\n",
       "  <tbody>\n",
       "    <tr>\n",
       "      <th>773493</th>\n",
       "      <td>My Favorite Wife</td>\n",
       "      <td>1940</td>\n",
       "      <td>Cary Grant</td>\n",
       "      <td>actor</td>\n",
       "      <td>Nick</td>\n",
       "      <td>2.0</td>\n",
       "    </tr>\n",
       "  </tbody>\n",
       "</table>\n",
       "</div>"
      ],
      "text/plain": [
       "                   title  year        name   type character    n\n",
       "773493  My Favorite Wife  1940  Cary Grant  actor      Nick  2.0"
      ]
     },
     "execution_count": 152,
     "metadata": {},
     "output_type": "execute_result"
    }
   ],
   "source": [
    "cast[(cast[\"n\"]==2) & (cast[\"year\"]==1940) & (cast[\"name\"]==\"Cary Grant\")].sort_values(by=\"year\")"
   ]
  },
  {
   "cell_type": "code",
   "execution_count": 153,
   "id": "6f7b0ecd",
   "metadata": {},
   "outputs": [
    {
     "data": {
      "text/html": [
       "<div>\n",
       "<style scoped>\n",
       "    .dataframe tbody tr th:only-of-type {\n",
       "        vertical-align: middle;\n",
       "    }\n",
       "\n",
       "    .dataframe tbody tr th {\n",
       "        vertical-align: top;\n",
       "    }\n",
       "\n",
       "    .dataframe thead th {\n",
       "        text-align: right;\n",
       "    }\n",
       "</style>\n",
       "<table border=\"1\" class=\"dataframe\">\n",
       "  <thead>\n",
       "    <tr style=\"text-align: right;\">\n",
       "      <th></th>\n",
       "      <th>title</th>\n",
       "      <th>year</th>\n",
       "      <th>name</th>\n",
       "      <th>type</th>\n",
       "      <th>character</th>\n",
       "      <th>n</th>\n",
       "    </tr>\n",
       "  </thead>\n",
       "  <tbody>\n",
       "    <tr>\n",
       "      <th>773475</th>\n",
       "      <td>His Girl Friday</td>\n",
       "      <td>1940</td>\n",
       "      <td>Cary Grant</td>\n",
       "      <td>actor</td>\n",
       "      <td>Walter Burns</td>\n",
       "      <td>1.0</td>\n",
       "    </tr>\n",
       "    <tr>\n",
       "      <th>773493</th>\n",
       "      <td>My Favorite Wife</td>\n",
       "      <td>1940</td>\n",
       "      <td>Cary Grant</td>\n",
       "      <td>actor</td>\n",
       "      <td>Nick</td>\n",
       "      <td>2.0</td>\n",
       "    </tr>\n",
       "    <tr>\n",
       "      <th>773518</th>\n",
       "      <td>The Howards of Virginia</td>\n",
       "      <td>1940</td>\n",
       "      <td>Cary Grant</td>\n",
       "      <td>actor</td>\n",
       "      <td>Matt Howard</td>\n",
       "      <td>1.0</td>\n",
       "    </tr>\n",
       "    <tr>\n",
       "      <th>773520</th>\n",
       "      <td>The Philadelphia Story</td>\n",
       "      <td>1940</td>\n",
       "      <td>Cary Grant</td>\n",
       "      <td>actor</td>\n",
       "      <td>C. K. Dexter Haven</td>\n",
       "      <td>1.0</td>\n",
       "    </tr>\n",
       "  </tbody>\n",
       "</table>\n",
       "</div>"
      ],
      "text/plain": [
       "                          title  year        name   type           character  \\\n",
       "773475          His Girl Friday  1940  Cary Grant  actor        Walter Burns   \n",
       "773493         My Favorite Wife  1940  Cary Grant  actor                Nick   \n",
       "773518  The Howards of Virginia  1940  Cary Grant  actor         Matt Howard   \n",
       "773520   The Philadelphia Story  1940  Cary Grant  actor  C. K. Dexter Haven   \n",
       "\n",
       "          n  \n",
       "773475  1.0  \n",
       "773493  2.0  \n",
       "773518  1.0  \n",
       "773520  1.0  "
      ]
     },
     "execution_count": 153,
     "metadata": {},
     "output_type": "execute_result"
    }
   ],
   "source": [
    "cast[(cast[\"year\"]==1940) & (cast[\"name\"]==\"Cary Grant\")].sort_values(by=\"year\")"
   ]
  },
  {
   "cell_type": "code",
   "execution_count": 161,
   "id": "c9603296",
   "metadata": {},
   "outputs": [
    {
     "data": {
      "text/plain": [
       "actor      604\n",
       "actress    270\n",
       "Name: type, dtype: int64"
      ]
     },
     "execution_count": 161,
     "metadata": {},
     "output_type": "execute_result"
    }
   ],
   "source": [
    "cast[(cast[\"n\"]==1) & (cast[\"year\"]==1950) & (cast.type.isin([\"actor\",\"actress\"]))].type.value_counts()"
   ]
  },
  {
   "cell_type": "code",
   "execution_count": 162,
   "id": "d7cfc25d",
   "metadata": {},
   "outputs": [
    {
     "data": {
      "text/plain": [
       "actor      418\n",
       "actress    401\n",
       "Name: type, dtype: int64"
      ]
     },
     "execution_count": 162,
     "metadata": {},
     "output_type": "execute_result"
    }
   ],
   "source": [
    "cast[(cast[\"n\"]==2) & (cast[\"year\"]==1950) & (cast.type.isin([\"actor\",\"actress\"]))].type.value_counts()"
   ]
  },
  {
   "cell_type": "code",
   "execution_count": 19,
   "id": "cdc53f09",
   "metadata": {},
   "outputs": [
    {
     "data": {
      "text/plain": [
       "874"
      ]
     },
     "execution_count": 19,
     "metadata": {},
     "output_type": "execute_result"
    }
   ],
   "source": [
    "cast[(cast[\"n\"]==1) & (cast[\"year\"]==1950) & (cast.type.isin([\"actor\",\"actress\"]))].type.value_counts().sum()"
   ]
  },
  {
   "cell_type": "code",
   "execution_count": 168,
   "id": "42b33312",
   "metadata": {},
   "outputs": [
    {
     "data": {
      "text/html": [
       "<div>\n",
       "<style scoped>\n",
       "    .dataframe tbody tr th:only-of-type {\n",
       "        vertical-align: middle;\n",
       "    }\n",
       "\n",
       "    .dataframe tbody tr th {\n",
       "        vertical-align: top;\n",
       "    }\n",
       "\n",
       "    .dataframe thead th {\n",
       "        text-align: right;\n",
       "    }\n",
       "</style>\n",
       "<table border=\"1\" class=\"dataframe\">\n",
       "  <thead>\n",
       "    <tr style=\"text-align: right;\">\n",
       "      <th></th>\n",
       "      <th>title</th>\n",
       "      <th>year</th>\n",
       "      <th>name</th>\n",
       "      <th>type</th>\n",
       "      <th>character</th>\n",
       "      <th>n</th>\n",
       "    </tr>\n",
       "  </thead>\n",
       "  <tbody>\n",
       "    <tr>\n",
       "      <th>19083</th>\n",
       "      <td>Noel Gallagher's High Flying Birds Live</td>\n",
       "      <td>2012</td>\n",
       "      <td>Eugenie Aichison</td>\n",
       "      <td>actor</td>\n",
       "      <td>Herself</td>\n",
       "      <td>22.0</td>\n",
       "    </tr>\n",
       "    <tr>\n",
       "      <th>103666</th>\n",
       "      <td>Alexander Jamieson</td>\n",
       "      <td>2015</td>\n",
       "      <td>Etta Baker</td>\n",
       "      <td>actor</td>\n",
       "      <td>Herself</td>\n",
       "      <td>NaN</td>\n",
       "    </tr>\n",
       "    <tr>\n",
       "      <th>175206</th>\n",
       "      <td>Le fils de Gascogne</td>\n",
       "      <td>1995</td>\n",
       "      <td>Ren? Biaggi</td>\n",
       "      <td>actor</td>\n",
       "      <td>Herself</td>\n",
       "      <td>22.0</td>\n",
       "    </tr>\n",
       "    <tr>\n",
       "      <th>182995</th>\n",
       "      <td>30 Years Os Dark Seduction</td>\n",
       "      <td>2015</td>\n",
       "      <td>Steve (II) Bishart</td>\n",
       "      <td>actor</td>\n",
       "      <td>Herself</td>\n",
       "      <td>NaN</td>\n",
       "    </tr>\n",
       "    <tr>\n",
       "      <th>186661</th>\n",
       "      <td>Forty Shades of Blue</td>\n",
       "      <td>2005</td>\n",
       "      <td>J. Blackfoot</td>\n",
       "      <td>actor</td>\n",
       "      <td>Herself</td>\n",
       "      <td>7.0</td>\n",
       "    </tr>\n",
       "    <tr>\n",
       "      <th>...</th>\n",
       "      <td>...</td>\n",
       "      <td>...</td>\n",
       "      <td>...</td>\n",
       "      <td>...</td>\n",
       "      <td>...</td>\n",
       "      <td>...</td>\n",
       "    </tr>\n",
       "    <tr>\n",
       "      <th>3309175</th>\n",
       "      <td>Nema-ye Nazdik</td>\n",
       "      <td>1990</td>\n",
       "      <td>Nayer Mohseni Zonoozi</td>\n",
       "      <td>actress</td>\n",
       "      <td>Herself</td>\n",
       "      <td>7.0</td>\n",
       "    </tr>\n",
       "    <tr>\n",
       "      <th>3309673</th>\n",
       "      <td>Fictionality</td>\n",
       "      <td>2012</td>\n",
       "      <td>Gabi Zucker</td>\n",
       "      <td>actress</td>\n",
       "      <td>Herself</td>\n",
       "      <td>NaN</td>\n",
       "    </tr>\n",
       "    <tr>\n",
       "      <th>3309992</th>\n",
       "      <td>Beziehungsweisen</td>\n",
       "      <td>2012</td>\n",
       "      <td>Heidemarie Zunken-Kreplien</td>\n",
       "      <td>actress</td>\n",
       "      <td>Herself</td>\n",
       "      <td>7.0</td>\n",
       "    </tr>\n",
       "    <tr>\n",
       "      <th>3310711</th>\n",
       "      <td>Bendito Canalla</td>\n",
       "      <td>2008</td>\n",
       "      <td>Serafina ?lvarez</td>\n",
       "      <td>actress</td>\n",
       "      <td>Herself</td>\n",
       "      <td>NaN</td>\n",
       "    </tr>\n",
       "    <tr>\n",
       "      <th>3310807</th>\n",
       "      <td>Angel</td>\n",
       "      <td>2008</td>\n",
       "      <td>Lisbeth ?kerman</td>\n",
       "      <td>actress</td>\n",
       "      <td>Herself</td>\n",
       "      <td>NaN</td>\n",
       "    </tr>\n",
       "  </tbody>\n",
       "</table>\n",
       "<p>5520 rows × 6 columns</p>\n",
       "</div>"
      ],
      "text/plain": [
       "                                           title  year  \\\n",
       "19083    Noel Gallagher's High Flying Birds Live  2012   \n",
       "103666                        Alexander Jamieson  2015   \n",
       "175206                       Le fils de Gascogne  1995   \n",
       "182995                30 Years Os Dark Seduction  2015   \n",
       "186661                      Forty Shades of Blue  2005   \n",
       "...                                          ...   ...   \n",
       "3309175                           Nema-ye Nazdik  1990   \n",
       "3309673                             Fictionality  2012   \n",
       "3309992                         Beziehungsweisen  2012   \n",
       "3310711                          Bendito Canalla  2008   \n",
       "3310807                                    Angel  2008   \n",
       "\n",
       "                               name     type character     n  \n",
       "19083              Eugenie Aichison    actor   Herself  22.0  \n",
       "103666                   Etta Baker    actor   Herself   NaN  \n",
       "175206                  Ren? Biaggi    actor   Herself  22.0  \n",
       "182995           Steve (II) Bishart    actor   Herself   NaN  \n",
       "186661                 J. Blackfoot    actor   Herself   7.0  \n",
       "...                             ...      ...       ...   ...  \n",
       "3309175       Nayer Mohseni Zonoozi  actress   Herself   7.0  \n",
       "3309673                 Gabi Zucker  actress   Herself   NaN  \n",
       "3309992  Heidemarie Zunken-Kreplien  actress   Herself   7.0  \n",
       "3310711            Serafina ?lvarez  actress   Herself   NaN  \n",
       "3310807             Lisbeth ?kerman  actress   Herself   NaN  \n",
       "\n",
       "[5520 rows x 6 columns]"
      ]
     },
     "execution_count": 168,
     "metadata": {},
     "output_type": "execute_result"
    }
   ],
   "source": [
    "cast[cast[\"character\"]==\"Herself\"]"
   ]
  },
  {
   "cell_type": "code",
   "execution_count": 12,
   "id": "02abab21",
   "metadata": {},
   "outputs": [
    {
     "data": {
      "text/plain": [
       "False    2069575\n",
       "True     1242072\n",
       "Name: n, dtype: int64"
      ]
     },
     "execution_count": 12,
     "metadata": {},
     "output_type": "execute_result"
    }
   ],
   "source": [
    "cast.n.isna().value_counts()"
   ]
  },
  {
   "cell_type": "code",
   "execution_count": 13,
   "id": "740bf5c5",
   "metadata": {},
   "outputs": [
    {
     "data": {
      "text/plain": [
       "Series([], dtype: int64)"
      ]
     },
     "execution_count": 13,
     "metadata": {},
     "output_type": "execute_result"
    }
   ],
   "source": [
    "cast[(cast[\"title\"]==\"Inception\") & (cast.n.isna())].value_counts()"
   ]
  },
  {
   "cell_type": "code",
   "execution_count": 15,
   "id": "73cb9139",
   "metadata": {},
   "outputs": [
    {
     "data": {
      "text/plain": [
       "title               year  name                  type     character                    n   \n",
       "North by Northwest  1959  Adam Williams         actor    Valerian                     9.0     1\n",
       "                          Cary Grant            actor    Roger O. Thornhill           1.0     1\n",
       "                          Edward Binns          actor    Captain Junket               15.0    1\n",
       "                          Edward Platt          actor    Victor Larrabee              10.0    1\n",
       "                          Eva Marie Saint       actress  Eve Kendall                  2.0     1\n",
       "                          James Mason           actor    Phillip Vandamm              3.0     1\n",
       "                          Jessie Royce Landis   actress  Clara Thornhill              4.0     1\n",
       "                          Josephine Hutchinson  actress  Mrs. Townsend                6.0     1\n",
       "                          Ken Lynch             actor    Charley - Chicago Policeman  16.0    1\n",
       "                          Leo G. Carroll        actor    The Professor                5.0     1\n",
       "                          Les Tremayne          actor    Auctioneer                   12.0    1\n",
       "                          Martin Landau         actor    Leonard                      8.0     1\n",
       "                          Patrick McVey         actor    Sergeant Flamm               14.0    1\n",
       "                          Philip Coolidge       actor    Dr. Cross                    13.0    1\n",
       "                          Philip Ober           actor    Lester Townsend              7.0     1\n",
       "                          Robert Ellenstein     actor    Licht                        11.0    1\n",
       "dtype: int64"
      ]
     },
     "execution_count": 15,
     "metadata": {},
     "output_type": "execute_result"
    }
   ],
   "source": [
    "cast[cast[\"title\"]==\"North by Northwest\"].value_counts()"
   ]
  },
  {
   "cell_type": "code",
   "execution_count": 16,
   "id": "d24e8578",
   "metadata": {},
   "outputs": [
    {
     "data": {
      "text/plain": [
       "North by Northwest    111\n",
       "Name: title, dtype: int64"
      ]
     },
     "execution_count": 16,
     "metadata": {},
     "output_type": "execute_result"
    }
   ],
   "source": [
    "cast[cast[\"title\"]==\"North by Northwest\"].title.value_counts()"
   ]
  },
  {
   "cell_type": "code",
   "execution_count": 18,
   "id": "6f996f55",
   "metadata": {},
   "outputs": [
    {
     "data": {
      "text/plain": [
       "title                      year  name                       type     character                  n  \n",
       "0 Uhr 15, Zimmer 9         1950  Cornell Borchers           actress  Maria Mertens              1.0    1\n",
       "Samsaram                   1950  Taraka Rama Rao Nandamuri  actor    Raghu                      1.0    1\n",
       "Rocky Mountain             1950  Errol Flynn                actor    Capt. Lafe Barstow (CSA)   1.0    1\n",
       "Rogues of Sherwood Forest  1950  John Derek                 actor    Robin, Earl of Huntington  1.0    1\n",
       "Romanzo d'amore            1950  Danielle Darrieux          actress  Luisa d'Asburgo-Lorena     1.0    1\n",
       "                                                                                                      ..\n",
       "High Lonesome              1950  John Drew Barrymore        actor    Cooncat                    1.0    1\n",
       "Highly Dangerous           1950  Margaret Lockwood          actress  Frances Gray               1.0    1\n",
       "Highway 301                1950  Steve Cochran              actor    George Legenza             1.0    1\n",
       "Hills of Oklahoma          1950  Rex Allen                  actor    Rex Allen                  1.0    1\n",
       "Zwei in einem Anzug        1950  Joe St?ckel                actor    Thomas Bimslechner         1.0    1\n",
       "Length: 874, dtype: int64"
      ]
     },
     "execution_count": 18,
     "metadata": {},
     "output_type": "execute_result"
    }
   ],
   "source": [
    "cast[(cast[\"n\"]==1) & (cast[\"year\"]==1950) & (cast.type.isin([\"actor\",\"actress\"]))].value_counts()"
   ]
  },
  {
   "cell_type": "code",
   "execution_count": 3,
   "id": "1376fe29",
   "metadata": {},
   "outputs": [
    {
     "data": {
      "text/plain": [
       "title               year  name                  type     character                    n   \n",
       "North by Northwest  1959  Adam Williams         actor    Valerian                     9.0     1\n",
       "                          Cary Grant            actor    Roger O. Thornhill           1.0     1\n",
       "                          Edward Binns          actor    Captain Junket               15.0    1\n",
       "                          Edward Platt          actor    Victor Larrabee              10.0    1\n",
       "                          Eva Marie Saint       actress  Eve Kendall                  2.0     1\n",
       "                          James Mason           actor    Phillip Vandamm              3.0     1\n",
       "                          Jessie Royce Landis   actress  Clara Thornhill              4.0     1\n",
       "                          Josephine Hutchinson  actress  Mrs. Townsend                6.0     1\n",
       "                          Ken Lynch             actor    Charley - Chicago Policeman  16.0    1\n",
       "                          Leo G. Carroll        actor    The Professor                5.0     1\n",
       "                          Les Tremayne          actor    Auctioneer                   12.0    1\n",
       "                          Martin Landau         actor    Leonard                      8.0     1\n",
       "                          Patrick McVey         actor    Sergeant Flamm               14.0    1\n",
       "                          Philip Coolidge       actor    Dr. Cross                    13.0    1\n",
       "                          Philip Ober           actor    Lester Townsend              7.0     1\n",
       "                          Robert Ellenstein     actor    Licht                        11.0    1\n",
       "dtype: int64"
      ]
     },
     "execution_count": 3,
     "metadata": {},
     "output_type": "execute_result"
    }
   ],
   "source": [
    "cast[cast[\"title\"]==\"North by Northwest\"].value_counts()"
   ]
  },
  {
   "cell_type": "code",
   "execution_count": 4,
   "id": "be7b8fbd",
   "metadata": {},
   "outputs": [],
   "source": [
    "cast['decade'] = ((cast.year // 10) * 10)"
   ]
  },
  {
   "cell_type": "code",
   "execution_count": 16,
   "id": "ead823b2",
   "metadata": {},
   "outputs": [
    {
     "data": {
      "text/plain": [
       "25.0"
      ]
     },
     "execution_count": 16,
     "metadata": {},
     "output_type": "execute_result"
    }
   ],
   "source": [
    "b=100/4\n",
    "b\n"
   ]
  },
  {
   "cell_type": "code",
   "execution_count": 14,
   "id": "5661b15e",
   "metadata": {},
   "outputs": [
    {
     "data": {
      "text/plain": [
       "25"
      ]
     },
     "execution_count": 14,
     "metadata": {},
     "output_type": "execute_result"
    }
   ],
   "source": [
    "a=100//4\n",
    "a"
   ]
  },
  {
   "cell_type": "code",
   "execution_count": 12,
   "id": "072d8379",
   "metadata": {},
   "outputs": [
    {
     "data": {
      "text/plain": [
       "int"
      ]
     },
     "execution_count": 12,
     "metadata": {},
     "output_type": "execute_result"
    }
   ],
   "source": [
    "type(a)"
   ]
  },
  {
   "cell_type": "code",
   "execution_count": 17,
   "id": "0819c27e",
   "metadata": {},
   "outputs": [
    {
     "data": {
      "text/plain": [
       "float"
      ]
     },
     "execution_count": 17,
     "metadata": {},
     "output_type": "execute_result"
    }
   ],
   "source": [
    "type(b)"
   ]
  },
  {
   "cell_type": "code",
   "execution_count": 26,
   "id": "036fe2af",
   "metadata": {},
   "outputs": [
    {
     "data": {
      "text/plain": [
       "1890         9\n",
       "1900        70\n",
       "1910     41799\n",
       "1920     69817\n",
       "1930    195865\n",
       "1940    206348\n",
       "1950    201920\n",
       "1960    173216\n",
       "1970    198845\n",
       "1980    269250\n",
       "1990    368219\n",
       "2000    731742\n",
       "2010    854508\n",
       "2020        39\n",
       "Name: decade, dtype: int64"
      ]
     },
     "execution_count": 26,
     "metadata": {},
     "output_type": "execute_result"
    }
   ],
   "source": [
    "cast.decade.value_counts().sort_index()"
   ]
  },
  {
   "cell_type": "code",
   "execution_count": null,
   "id": "365c5aac",
   "metadata": {},
   "outputs": [],
   "source": []
  }
 ],
 "metadata": {
  "kernelspec": {
   "display_name": "Python 3",
   "language": "python",
   "name": "python3"
  },
  "language_info": {
   "codemirror_mode": {
    "name": "ipython",
    "version": 3
   },
   "file_extension": ".py",
   "mimetype": "text/x-python",
   "name": "python",
   "nbconvert_exporter": "python",
   "pygments_lexer": "ipython3",
   "version": "3.8.8"
  }
 },
 "nbformat": 4,
 "nbformat_minor": 5
}
