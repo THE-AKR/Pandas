{
 "cells": [
  {
   "cell_type": "code",
   "execution_count": 1,
   "id": "597231cb",
   "metadata": {},
   "outputs": [],
   "source": [
    "x= 5"
   ]
  },
  {
   "cell_type": "code",
   "execution_count": 2,
   "id": "f0165b62",
   "metadata": {},
   "outputs": [],
   "source": [
    "x"
   ]
  },
  {
   "cell_type": "code",
   "execution_count": 3,
   "id": "d7b8ff33",
   "metadata": {},
   "outputs": [],
   "source": [
    "type(x)"
   ]
  },
  {
   "cell_type": "code",
   "execution_count": 4,
   "id": "abea456b",
   "metadata": {},
   "outputs": [
    {
     "data": {
      "text/plain": [
       "'hello'"
      ]
     },
     "execution_count": 4,
     "metadata": {},
     "output_type": "execute_result"
    }
   ],
   "source": [
    "a=\"hello\"\n",
    "a"
   ]
  },
  {
   "cell_type": "code",
   "execution_count": 5,
   "id": "50cd14f6",
   "metadata": {},
   "outputs": [
    {
     "data": {
      "text/plain": [
       "['a', 'b', 'c']"
      ]
     },
     "execution_count": 5,
     "metadata": {},
     "output_type": "execute_result"
    }
   ],
   "source": [
    "a =[\"a\",\"b\",\"c\"]\n",
    "a"
   ]
  },
  {
   "cell_type": "code",
   "execution_count": 6,
   "id": "f546b558",
   "metadata": {},
   "outputs": [
    {
     "data": {
      "text/plain": [
       "['a', 'b', 'c', 'd']"
      ]
     },
     "execution_count": 6,
     "metadata": {},
     "output_type": "execute_result"
    }
   ],
   "source": [
    "a.append(\"d\")\n",
    "a"
   ]
  },
  {
   "cell_type": "code",
   "execution_count": 7,
   "id": "bb364657",
   "metadata": {},
   "outputs": [
    {
     "data": {
      "text/plain": [
       "['a', 2, 'b', 'c', 'd']"
      ]
     },
     "execution_count": 7,
     "metadata": {},
     "output_type": "execute_result"
    }
   ],
   "source": [
    "a.insert(1,2)\n",
    "a"
   ]
  },
  {
   "cell_type": "code",
   "execution_count": 8,
   "id": "5430ea90",
   "metadata": {},
   "outputs": [
    {
     "data": {
      "text/plain": [
       "['a', 2, 'b', 'c']"
      ]
     },
     "execution_count": 8,
     "metadata": {},
     "output_type": "execute_result"
    }
   ],
   "source": [
    "a.pop()\n",
    "a"
   ]
  },
  {
   "cell_type": "code",
   "execution_count": 9,
   "id": "847038f1",
   "metadata": {},
   "outputs": [
    {
     "data": {
      "text/plain": [
       "['a', 2, 'b']"
      ]
     },
     "execution_count": 9,
     "metadata": {},
     "output_type": "execute_result"
    }
   ],
   "source": [
    "a.remove(\"c\")\n",
    "a"
   ]
  },
  {
   "cell_type": "code",
   "execution_count": 10,
   "id": "06c14d12",
   "metadata": {},
   "outputs": [],
   "source": [
    "a.remove(2)"
   ]
  },
  {
   "cell_type": "code",
   "execution_count": 11,
   "id": "8f6c3ef0",
   "metadata": {},
   "outputs": [],
   "source": [
    "a.sort()"
   ]
  },
  {
   "cell_type": "code",
   "execution_count": 12,
   "id": "d8c9dee3",
   "metadata": {},
   "outputs": [
    {
     "data": {
      "text/plain": [
       "['a', 'b']"
      ]
     },
     "execution_count": 12,
     "metadata": {},
     "output_type": "execute_result"
    }
   ],
   "source": [
    "a"
   ]
  },
  {
   "cell_type": "code",
   "execution_count": 13,
   "id": "f60324ec",
   "metadata": {},
   "outputs": [
    {
     "data": {
      "text/plain": [
       "{'a1': 24, 'a2': 36}"
      ]
     },
     "execution_count": 13,
     "metadata": {},
     "output_type": "execute_result"
    }
   ],
   "source": [
    "d ={\n",
    "    'a1':24,\n",
    "    'a2':36\n",
    "}\n",
    "d"
   ]
  },
  {
   "cell_type": "code",
   "execution_count": 14,
   "id": "bed309f0",
   "metadata": {},
   "outputs": [
    {
     "data": {
      "text/plain": [
       "[0, 1, 2, 3, 4]"
      ]
     },
     "execution_count": 14,
     "metadata": {},
     "output_type": "execute_result"
    }
   ],
   "source": [
    "x=list(range(5))\n",
    "\n",
    "x"
   ]
  },
  {
   "cell_type": "code",
   "execution_count": 13,
   "id": "56bccbc2",
   "metadata": {},
   "outputs": [
    {
     "name": "stdout",
     "output_type": "stream",
     "text": [
      "[0, 1, 2, 3, 4]\n",
      "2\n",
      "3\n",
      "4\n",
      "5\n",
      "6\n"
     ]
    }
   ],
   "source": [
    "x=list(range(5))\n",
    "print(x)\n",
    "for y in x:\n",
    "    y=y+2\n",
    "    print(y)"
   ]
  },
  {
   "cell_type": "code",
   "execution_count": 2,
   "id": "450854b6",
   "metadata": {},
   "outputs": [
    {
     "name": "stdout",
     "output_type": "stream",
     "text": [
      "[9, 8, 7, 6, 5, 4]\n"
     ]
    }
   ],
   "source": [
    "n = [9,8,7,6,5]\n",
    "n.append(4)\n",
    "print(n)\n",
    "\n"
   ]
  },
  {
   "cell_type": "code",
   "execution_count": 17,
   "id": "d33024e9",
   "metadata": {},
   "outputs": [
    {
     "name": "stdout",
     "output_type": "stream",
     "text": [
      "[9, 8, 7, 6, 5, 4]\n",
      "[9, 8, 11, 7, 6, 5, 4]\n",
      "7\n"
     ]
    }
   ],
   "source": [
    "n = [9,8,7,6,5]\n",
    "n.append(4)\n",
    "print(n)\n",
    "n.insert(2,11)\n",
    "print(n)\n",
    "print(len(n))\n"
   ]
  },
  {
   "cell_type": "code",
   "execution_count": null,
   "id": "2749ee39",
   "metadata": {},
   "outputs": [],
   "source": [
    "for x in range(1,10):\n",
    "    x=x**2\n",
    "    print(x)"
   ]
  },
  {
   "cell_type": "code",
   "execution_count": null,
   "id": "f66abc28",
   "metadata": {},
   "outputs": [],
   "source": [
    "for x in range(1,10):\n",
    "    x=x%2==0\n",
    "    print(x)"
   ]
  },
  {
   "cell_type": "code",
   "execution_count": 3,
   "id": "25a924a6",
   "metadata": {},
   "outputs": [
    {
     "data": {
      "text/plain": [
       "<map at 0x1e2cfd9eaf0>"
      ]
     },
     "execution_count": 3,
     "metadata": {},
     "output_type": "execute_result"
    }
   ],
   "source": [
    "map(lambda x: x + 10, range(10))\n"
   ]
  },
  {
   "cell_type": "markdown",
   "id": "61d03bf1",
   "metadata": {},
   "source": [
    "# numpy"
   ]
  },
  {
   "cell_type": "code",
   "execution_count": 18,
   "id": "0949f4bf",
   "metadata": {},
   "outputs": [],
   "source": [
    "import numpy as np\n"
   ]
  },
  {
   "cell_type": "code",
   "execution_count": 6,
   "id": "1c9cdb06",
   "metadata": {},
   "outputs": [
    {
     "data": {
      "text/plain": [
       "array([9, 8, 4, 7, 6, 8])"
      ]
     },
     "execution_count": 6,
     "metadata": {},
     "output_type": "execute_result"
    }
   ],
   "source": [
    "x1= np.random.randint(10,size=(6)) #1d array #only colmn\n",
    "x1"
   ]
  },
  {
   "cell_type": "code",
   "execution_count": 7,
   "id": "786ffa00",
   "metadata": {},
   "outputs": [
    {
     "data": {
      "text/plain": [
       "array([[1],\n",
       "       [5],\n",
       "       [9],\n",
       "       [0],\n",
       "       [8],\n",
       "       [6]])"
      ]
     },
     "execution_count": 7,
     "metadata": {},
     "output_type": "execute_result"
    }
   ],
   "source": [
    "x1= np.random.randint(10,size=(6,1)) #1d array #only row\n",
    "x1"
   ]
  },
  {
   "cell_type": "code",
   "execution_count": 8,
   "id": "6cd5efda",
   "metadata": {},
   "outputs": [
    {
     "data": {
      "text/plain": [
       "array([[ 7,  7,  2,  7,  5],\n",
       "       [17, 14, 12, 19,  3],\n",
       "       [ 8,  8,  0,  7, 10],\n",
       "       [ 2, 14,  6,  8,  0]])"
      ]
     },
     "execution_count": 8,
     "metadata": {},
     "output_type": "execute_result"
    }
   ],
   "source": [
    "x2= np.random.randint(20, size=(4,5)) #2d array\n",
    "x2"
   ]
  },
  {
   "cell_type": "code",
   "execution_count": 16,
   "id": "e89b208b",
   "metadata": {},
   "outputs": [
    {
     "data": {
      "text/plain": [
       "array([[[ 5, 11,  0],\n",
       "        [28,  6,  7],\n",
       "        [18, 18,  9],\n",
       "        [29, 22, 24],\n",
       "        [17, 29,  5]],\n",
       "\n",
       "       [[ 8, 17, 10],\n",
       "        [ 8, 12, 28],\n",
       "        [27, 18,  1],\n",
       "        [24, 11, 13],\n",
       "        [27,  4, 29]],\n",
       "\n",
       "       [[ 3, 23, 14],\n",
       "        [22,  0, 16],\n",
       "        [ 0, 25, 14],\n",
       "        [25, 14,  6],\n",
       "        [24, 23, 12]],\n",
       "\n",
       "       [[ 1,  2,  8],\n",
       "        [14, 27, 17],\n",
       "        [ 4, 25, 28],\n",
       "        [ 2,  6, 28],\n",
       "        [14,  3, 15]],\n",
       "\n",
       "       [[11, 18,  4],\n",
       "        [17, 22,  5],\n",
       "        [10, 22, 24],\n",
       "        [ 8, 19, 29],\n",
       "        [24, 17, 13]],\n",
       "\n",
       "       [[16, 14, 10],\n",
       "        [15,  0,  4],\n",
       "        [17, 26, 20],\n",
       "        [15, 25, 23],\n",
       "        [10, 15,  6]]])"
      ]
     },
     "execution_count": 16,
     "metadata": {},
     "output_type": "execute_result"
    }
   ],
   "source": [
    "x3= np.random.randint(30,size=(6,5,3)) #3d array\n",
    "x3"
   ]
  },
  {
   "cell_type": "code",
   "execution_count": 17,
   "id": "499f25c5",
   "metadata": {},
   "outputs": [
    {
     "data": {
      "text/plain": [
       "5"
      ]
     },
     "execution_count": 17,
     "metadata": {},
     "output_type": "execute_result"
    }
   ],
   "source": [
    "x3[4,1,2]"
   ]
  },
  {
   "cell_type": "code",
   "execution_count": null,
   "id": "9c66fb1c",
   "metadata": {},
   "outputs": [],
   "source": [
    "print(x3.ndim) #dimension\n",
    "print(x3.shape) #shape\n",
    "print(x3.size) #size"
   ]
  },
  {
   "cell_type": "code",
   "execution_count": null,
   "id": "058d6655",
   "metadata": {},
   "outputs": [],
   "source": [
    "name= input(\"enter your name\")"
   ]
  },
  {
   "cell_type": "code",
   "execution_count": null,
   "id": "bceb377d",
   "metadata": {},
   "outputs": [],
   "source": [
    "name"
   ]
  },
  {
   "cell_type": "code",
   "execution_count": null,
   "id": "a19f773f",
   "metadata": {},
   "outputs": [],
   "source": [
    "marks= float(input(\"Enter marks: \"))"
   ]
  },
  {
   "cell_type": "code",
   "execution_count": null,
   "id": "c16a2271",
   "metadata": {},
   "outputs": [],
   "source": [
    "marks\n"
   ]
  },
  {
   "cell_type": "markdown",
   "id": "1dd3a994",
   "metadata": {},
   "source": [
    "# game "
   ]
  },
  {
   "cell_type": "code",
   "execution_count": 3,
   "id": "6f486998",
   "metadata": {},
   "outputs": [
    {
     "name": "stdout",
     "output_type": "stream",
     "text": [
      "Enter a integer number5\n",
      "You chose 5\n",
      "random_number :  2\n",
      "You loose\n",
      "Enter a integer number2\n",
      "You chose 2\n",
      "random_number :  3\n",
      "You loose\n"
     ]
    },
    {
     "ename": "KeyboardInterrupt",
     "evalue": "Interrupted by user",
     "output_type": "error",
     "traceback": [
      "\u001b[1;31m---------------------------------------------------------------------------\u001b[0m",
      "\u001b[1;31mKeyboardInterrupt\u001b[0m                         Traceback (most recent call last)",
      "\u001b[1;32m<ipython-input-3-3612510717f4>\u001b[0m in \u001b[0;36m<module>\u001b[1;34m\u001b[0m\n\u001b[0;32m      2\u001b[0m     \u001b[0mvalue\u001b[0m \u001b[1;33m=\u001b[0m \u001b[0mnp\u001b[0m\u001b[1;33m.\u001b[0m\u001b[0mrandom\u001b[0m\u001b[1;33m.\u001b[0m\u001b[0mrandint\u001b[0m\u001b[1;33m(\u001b[0m\u001b[1;36m1\u001b[0m\u001b[1;33m,\u001b[0m\u001b[1;36m4\u001b[0m\u001b[1;33m)\u001b[0m\u001b[1;33m\u001b[0m\u001b[1;33m\u001b[0m\u001b[0m\n\u001b[0;32m      3\u001b[0m \u001b[1;33m\u001b[0m\u001b[0m\n\u001b[1;32m----> 4\u001b[1;33m     \u001b[0mnumber\u001b[0m \u001b[1;33m=\u001b[0m \u001b[0mint\u001b[0m\u001b[1;33m(\u001b[0m\u001b[0minput\u001b[0m\u001b[1;33m(\u001b[0m\u001b[1;34m\"Enter a integer number\"\u001b[0m\u001b[1;33m)\u001b[0m\u001b[1;33m)\u001b[0m\u001b[1;33m\u001b[0m\u001b[1;33m\u001b[0m\u001b[0m\n\u001b[0m\u001b[0;32m      5\u001b[0m \u001b[1;33m\u001b[0m\u001b[0m\n\u001b[0;32m      6\u001b[0m     \u001b[1;32mif\u001b[0m \u001b[0mnumber\u001b[0m \u001b[1;33m==\u001b[0m \u001b[0mvalue\u001b[0m\u001b[1;33m:\u001b[0m\u001b[1;33m\u001b[0m\u001b[1;33m\u001b[0m\u001b[0m\n",
      "\u001b[1;32m~\\anaconda3\\lib\\site-packages\\ipykernel\\kernelbase.py\u001b[0m in \u001b[0;36mraw_input\u001b[1;34m(self, prompt)\u001b[0m\n\u001b[0;32m    858\u001b[0m                 \u001b[1;34m\"raw_input was called, but this frontend does not support input requests.\"\u001b[0m\u001b[1;33m\u001b[0m\u001b[1;33m\u001b[0m\u001b[0m\n\u001b[0;32m    859\u001b[0m             )\n\u001b[1;32m--> 860\u001b[1;33m         return self._input_request(str(prompt),\n\u001b[0m\u001b[0;32m    861\u001b[0m             \u001b[0mself\u001b[0m\u001b[1;33m.\u001b[0m\u001b[0m_parent_ident\u001b[0m\u001b[1;33m,\u001b[0m\u001b[1;33m\u001b[0m\u001b[1;33m\u001b[0m\u001b[0m\n\u001b[0;32m    862\u001b[0m             \u001b[0mself\u001b[0m\u001b[1;33m.\u001b[0m\u001b[0m_parent_header\u001b[0m\u001b[1;33m,\u001b[0m\u001b[1;33m\u001b[0m\u001b[1;33m\u001b[0m\u001b[0m\n",
      "\u001b[1;32m~\\anaconda3\\lib\\site-packages\\ipykernel\\kernelbase.py\u001b[0m in \u001b[0;36m_input_request\u001b[1;34m(self, prompt, ident, parent, password)\u001b[0m\n\u001b[0;32m    902\u001b[0m             \u001b[1;32mexcept\u001b[0m \u001b[0mKeyboardInterrupt\u001b[0m\u001b[1;33m:\u001b[0m\u001b[1;33m\u001b[0m\u001b[1;33m\u001b[0m\u001b[0m\n\u001b[0;32m    903\u001b[0m                 \u001b[1;31m# re-raise KeyboardInterrupt, to truncate traceback\u001b[0m\u001b[1;33m\u001b[0m\u001b[1;33m\u001b[0m\u001b[1;33m\u001b[0m\u001b[0m\n\u001b[1;32m--> 904\u001b[1;33m                 \u001b[1;32mraise\u001b[0m \u001b[0mKeyboardInterrupt\u001b[0m\u001b[1;33m(\u001b[0m\u001b[1;34m\"Interrupted by user\"\u001b[0m\u001b[1;33m)\u001b[0m \u001b[1;32mfrom\u001b[0m \u001b[1;32mNone\u001b[0m\u001b[1;33m\u001b[0m\u001b[1;33m\u001b[0m\u001b[0m\n\u001b[0m\u001b[0;32m    905\u001b[0m             \u001b[1;32mexcept\u001b[0m \u001b[0mException\u001b[0m \u001b[1;32mas\u001b[0m \u001b[0me\u001b[0m\u001b[1;33m:\u001b[0m\u001b[1;33m\u001b[0m\u001b[1;33m\u001b[0m\u001b[0m\n\u001b[0;32m    906\u001b[0m                 \u001b[0mself\u001b[0m\u001b[1;33m.\u001b[0m\u001b[0mlog\u001b[0m\u001b[1;33m.\u001b[0m\u001b[0mwarning\u001b[0m\u001b[1;33m(\u001b[0m\u001b[1;34m\"Invalid Message:\"\u001b[0m\u001b[1;33m,\u001b[0m \u001b[0mexc_info\u001b[0m\u001b[1;33m=\u001b[0m\u001b[1;32mTrue\u001b[0m\u001b[1;33m)\u001b[0m\u001b[1;33m\u001b[0m\u001b[1;33m\u001b[0m\u001b[0m\n",
      "\u001b[1;31mKeyboardInterrupt\u001b[0m: Interrupted by user"
     ]
    }
   ],
   "source": [
    "for i in range(3):\n",
    "    value = np.random.randint(1,4)\n",
    "\n",
    "    number = int(input(\"Enter a integer number\"))\n",
    "\n",
    "    if number == value:\n",
    "       print(\"You chose\", number )\n",
    "       print(\"random_number : \", value )\n",
    "       print(\"You win!\")\n",
    "    else:\n",
    "        print(\"You chose\", number )\n",
    "        print(\"random_number : \", value )\n",
    "        print(\"You loose\")\n",
    "    "
   ]
  },
  {
   "cell_type": "code",
   "execution_count": null,
   "id": "6f9334ce",
   "metadata": {},
   "outputs": [],
   "source": [
    "num = np.random.randint(1,4)\n",
    "print(\"Guess a number between 1 and 4 numbers \\nYou have 2 chances \")\n",
    "for i in range(2):\n",
    "    guess = int(input(\"Enter Your Guess: \"))\n",
    "    if guess == num :\n",
    "        print(\"right\")\n",
    "    else :\n",
    "        print(\"Try again...\")\n",
    "print(\"\\nFinished\")\n"
   ]
  },
  {
   "cell_type": "code",
   "execution_count": null,
   "id": "c6e78ce3",
   "metadata": {},
   "outputs": [],
   "source": [
    "import random\n",
    "num = random.randint(1,13)\n",
    "print(\"Guess a number between 1 and 13 integer number \\nYou have 2 chances \")\n",
    "for i in range(2):\n",
    "    guess = int(input(\"Enter Your Guess: \"))\n",
    "    if guess == num :\n",
    "        print(\"Congrats! You did it\")\n",
    "    else :\n",
    "        print(\"Try again...\")\n",
    "print(\"\\nFinished\")\n"
   ]
  },
  {
   "cell_type": "code",
   "execution_count": null,
   "id": "11fce986",
   "metadata": {},
   "outputs": [],
   "source": [
    "#aniket47kr@gmail.com\n"
   ]
  },
  {
   "cell_type": "code",
   "execution_count": null,
   "id": "32bfc32c",
   "metadata": {},
   "outputs": [],
   "source": [
    "#day 9 "
   ]
  },
  {
   "cell_type": "code",
   "execution_count": null,
   "id": "5e1499a3",
   "metadata": {},
   "outputs": [],
   "source": [
    "#write a program to print the count of the numbers\n",
    "numb=int(input(\"enter nmbers:\"))\n",
    "count=0\n",
    "for num in numb: \n",
    "    count=count+1\n",
    "print(count)"
   ]
  },
  {
   "cell_type": "code",
   "execution_count": 4,
   "id": "ebc4c990",
   "metadata": {},
   "outputs": [
    {
     "name": "stdout",
     "output_type": "stream",
     "text": [
      "enter numbers:abbasl223\n",
      "9\n"
     ]
    }
   ],
   "source": [
    "n=input(\"enter anything :\")\n",
    "count=0\n",
    "for num in n: \n",
    "    count=count+1\n",
    "print(count)"
   ]
  },
  {
   "cell_type": "code",
   "execution_count": 12,
   "id": "c1e7d645",
   "metadata": {},
   "outputs": [
    {
     "name": "stdout",
     "output_type": "stream",
     "text": [
      "enter the number: 1\n",
      "2 prime\n",
      "3 prime\n",
      "4 not a prime\n",
      "5 prime\n",
      "6 not a prime\n",
      "7 prime\n",
      "8 not a prime\n",
      "9 not a prime\n",
      "10 not a prime\n",
      "11 prime\n",
      "12 not a prime\n",
      "13 prime\n",
      "14 not a prime\n",
      "15 not a prime\n",
      "16 not a prime\n",
      "17 prime\n",
      "18 not a prime\n",
      "19 prime\n",
      "20 not a prime\n",
      "21 not a prime\n",
      "22 not a prime\n",
      "23 prime\n",
      "24 not a prime\n",
      "25 not a prime\n",
      "26 not a prime\n",
      "27 not a prime\n",
      "28 not a prime\n",
      "29 prime\n",
      "30 not a prime\n",
      "31 prime\n",
      "32 not a prime\n",
      "33 not a prime\n",
      "34 not a prime\n",
      "35 not a prime\n",
      "36 not a prime\n",
      "37 prime\n",
      "38 not a prime\n",
      "39 not a prime\n",
      "40 not a prime\n",
      "41 prime\n",
      "42 not a prime\n",
      "43 prime\n",
      "44 not a prime\n",
      "45 not a prime\n",
      "46 not a prime\n",
      "47 prime\n",
      "48 not a prime\n",
      "49 not a prime\n",
      "50 not a prime\n",
      "51 not a prime\n",
      "52 not a prime\n",
      "53 prime\n",
      "54 not a prime\n",
      "55 not a prime\n",
      "56 not a prime\n",
      "57 not a prime\n",
      "58 not a prime\n",
      "59 prime\n",
      "60 not a prime\n",
      "61 prime\n",
      "62 not a prime\n",
      "63 not a prime\n",
      "64 not a prime\n",
      "65 not a prime\n",
      "66 not a prime\n",
      "67 prime\n",
      "68 not a prime\n",
      "69 not a prime\n",
      "70 not a prime\n",
      "71 prime\n",
      "72 not a prime\n",
      "73 prime\n",
      "74 not a prime\n",
      "75 not a prime\n",
      "76 not a prime\n",
      "77 not a prime\n",
      "78 not a prime\n",
      "79 prime\n",
      "80 not a prime\n",
      "81 not a prime\n",
      "82 not a prime\n",
      "83 prime\n",
      "84 not a prime\n",
      "85 not a prime\n",
      "86 not a prime\n",
      "87 not a prime\n",
      "88 not a prime\n",
      "89 prime\n",
      "90 not a prime\n",
      "91 not a prime\n",
      "92 not a prime\n",
      "93 not a prime\n",
      "94 not a prime\n",
      "95 not a prime\n",
      "96 not a prime\n",
      "97 prime\n",
      "98 not a prime\n",
      "99 not a prime\n",
      "100 not a prime\n"
     ]
    }
   ],
   "source": [
    "n = int(input(\"enter the number: \"))\n",
    "limit = 100\n",
    "for num in range(n, limit+1): \n",
    "    if num > 1:\n",
    "        for i in range(2, num): \n",
    "            if (num % i) == 0:\n",
    "                print(num,\"not a prime\")\n",
    "                break \n",
    "        else:\n",
    "           print(num,\"prime\")\n"
   ]
  },
  {
   "cell_type": "code",
   "execution_count": null,
   "id": "68f5f637",
   "metadata": {},
   "outputs": [],
   "source": [
    "#numpy day 10 "
   ]
  },
  {
   "cell_type": "code",
   "execution_count": 12,
   "id": "dba68f6f",
   "metadata": {},
   "outputs": [
    {
     "data": {
      "text/plain": [
       "array(['5', '6'], dtype='<U1')"
      ]
     },
     "execution_count": 12,
     "metadata": {},
     "output_type": "execute_result"
    }
   ],
   "source": [
    "nmp=np.array(['5','6'])\n",
    "nmp"
   ]
  },
  {
   "cell_type": "code",
   "execution_count": 18,
   "id": "cafecba9",
   "metadata": {},
   "outputs": [
    {
     "data": {
      "text/plain": [
       "array([[[ 1, 23,  7],\n",
       "        [16, 10, 27],\n",
       "        [20, 10,  4],\n",
       "        [11, 24, 18],\n",
       "        [ 8, 20,  7]],\n",
       "\n",
       "       [[ 0, 16,  7],\n",
       "        [ 0, 21, 28],\n",
       "        [ 0, 29, 24],\n",
       "        [ 0, 22, 22],\n",
       "        [13, 27, 19]],\n",
       "\n",
       "       [[16,  4, 10],\n",
       "        [23, 17, 12],\n",
       "        [25, 15, 28],\n",
       "        [17, 18, 14],\n",
       "        [21, 18,  0]],\n",
       "\n",
       "       [[23, 15,  8],\n",
       "        [29, 28, 18],\n",
       "        [18, 22,  1],\n",
       "        [ 9,  6,  5],\n",
       "        [27, 19, 16]],\n",
       "\n",
       "       [[11, 26, 23],\n",
       "        [20, 14,  4],\n",
       "        [22, 14, 18],\n",
       "        [ 6, 27, 18],\n",
       "        [ 9, 25,  3]],\n",
       "\n",
       "       [[11, 11,  0],\n",
       "        [ 4, 15, 26],\n",
       "        [13,  7, 20],\n",
       "        [28, 23, 25],\n",
       "        [28,  3, 13]]])"
      ]
     },
     "execution_count": 18,
     "metadata": {},
     "output_type": "execute_result"
    }
   ],
   "source": [
    "x3= np.random.randint(30,size=(6,5,3)) #3d array\n",
    "x3"
   ]
  },
  {
   "cell_type": "code",
   "execution_count": 20,
   "id": "25215547",
   "metadata": {},
   "outputs": [
    {
     "data": {
      "text/plain": [
       "22"
      ]
     },
     "execution_count": 20,
     "metadata": {},
     "output_type": "execute_result"
    }
   ],
   "source": [
    "x3[4,2,0]"
   ]
  },
  {
   "cell_type": "code",
   "execution_count": 25,
   "id": "86f8042b",
   "metadata": {},
   "outputs": [
    {
     "data": {
      "text/plain": [
       "array([1, 8, 9, 1, 2, 6])"
      ]
     },
     "execution_count": 25,
     "metadata": {},
     "output_type": "execute_result"
    }
   ],
   "source": [
    "x6= np.random.randint(10,size=(6))\n",
    "x6"
   ]
  },
  {
   "cell_type": "markdown",
   "id": "83d60e18",
   "metadata": {},
   "source": [
    "## slicing"
   ]
  },
  {
   "cell_type": "code",
   "execution_count": 26,
   "id": "b8c2a01a",
   "metadata": {},
   "outputs": [
    {
     "data": {
      "text/plain": [
       "array([1, 8, 9, 1, 2])"
      ]
     },
     "execution_count": 26,
     "metadata": {},
     "output_type": "execute_result"
    }
   ],
   "source": [
    "x6[:5]"
   ]
  },
  {
   "cell_type": "code",
   "execution_count": 28,
   "id": "c3880aca",
   "metadata": {},
   "outputs": [
    {
     "data": {
      "text/plain": [
       "array([1, 8, 9])"
      ]
     },
     "execution_count": 28,
     "metadata": {},
     "output_type": "execute_result"
    }
   ],
   "source": [
    "x6[0:3]"
   ]
  },
  {
   "cell_type": "code",
   "execution_count": 29,
   "id": "52776e2f",
   "metadata": {},
   "outputs": [
    {
     "data": {
      "text/plain": [
       "array([2, 6])"
      ]
     },
     "execution_count": 29,
     "metadata": {},
     "output_type": "execute_result"
    }
   ],
   "source": [
    "x6[4:]"
   ]
  },
  {
   "cell_type": "code",
   "execution_count": 30,
   "id": "c6530d97",
   "metadata": {},
   "outputs": [
    {
     "data": {
      "text/plain": [
       "array([1, 9, 2])"
      ]
     },
     "execution_count": 30,
     "metadata": {},
     "output_type": "execute_result"
    }
   ],
   "source": [
    "x6[::2] #gives result from 0th position to end with the increment of 2"
   ]
  },
  {
   "cell_type": "code",
   "execution_count": 32,
   "id": "1d1d785c",
   "metadata": {},
   "outputs": [
    {
     "data": {
      "text/plain": [
       "array([6, 2, 1, 9, 8, 1])"
      ]
     },
     "execution_count": 32,
     "metadata": {},
     "output_type": "execute_result"
    }
   ],
   "source": [
    "x6[::-1] #reverse the array"
   ]
  },
  {
   "cell_type": "code",
   "execution_count": 34,
   "id": "84e909ac",
   "metadata": {},
   "outputs": [
    {
     "data": {
      "text/plain": [
       "array([1, 9, 8, 1])"
      ]
     },
     "execution_count": 34,
     "metadata": {},
     "output_type": "execute_result"
    }
   ],
   "source": [
    "x6[3::-1]"
   ]
  },
  {
   "cell_type": "code",
   "execution_count": 37,
   "id": "b76ea3d5",
   "metadata": {},
   "outputs": [
    {
     "data": {
      "text/plain": [
       "array([[ 5,  9,  7],\n",
       "       [13, 18,  5],\n",
       "       [10,  6, 13]])"
      ]
     },
     "execution_count": 37,
     "metadata": {},
     "output_type": "execute_result"
    }
   ],
   "source": [
    "x2= np.random.randint(20, size=(3,3)) #2d array\n",
    "x2"
   ]
  },
  {
   "cell_type": "code",
   "execution_count": 38,
   "id": "9152ec1c",
   "metadata": {},
   "outputs": [
    {
     "data": {
      "text/plain": [
       "array([[ 5,  9,  7],\n",
       "       [13, 18,  5]])"
      ]
     },
     "execution_count": 38,
     "metadata": {},
     "output_type": "execute_result"
    }
   ],
   "source": [
    "x2[:2,:] #sets limit like first 2 row will show 3rd will not"
   ]
  },
  {
   "cell_type": "code",
   "execution_count": 39,
   "id": "6a68bb4f",
   "metadata": {},
   "outputs": [
    {
     "data": {
      "text/plain": [
       "array([[ 5,  7],\n",
       "       [10, 13]])"
      ]
     },
     "execution_count": 39,
     "metadata": {},
     "output_type": "execute_result"
    }
   ],
   "source": [
    "x2[::2,::2]"
   ]
  },
  {
   "cell_type": "code",
   "execution_count": 40,
   "id": "c1c8ed5e",
   "metadata": {},
   "outputs": [
    {
     "data": {
      "text/plain": [
       "array([[13,  6, 10],\n",
       "       [ 5, 18, 13],\n",
       "       [ 7,  9,  5]])"
      ]
     },
     "execution_count": 40,
     "metadata": {},
     "output_type": "execute_result"
    }
   ],
   "source": [
    "x2[::-1,::-1] #transpose manner or reverse "
   ]
  },
  {
   "cell_type": "code",
   "execution_count": 44,
   "id": "276a2cb5",
   "metadata": {},
   "outputs": [
    {
     "data": {
      "text/plain": [
       "array([[ 2,  2,  2],\n",
       "       [13, 18,  5],\n",
       "       [10,  6, 13]])"
      ]
     },
     "execution_count": 44,
     "metadata": {},
     "output_type": "execute_result"
    }
   ],
   "source": [
    "x2[0,:]=2.222 #only int value added , the float value will be truncated\n",
    "x2"
   ]
  },
  {
   "cell_type": "markdown",
   "id": "02ec09ae",
   "metadata": {},
   "source": [
    "## concatenate"
   ]
  },
  {
   "cell_type": "code",
   "execution_count": 46,
   "id": "1b31992a",
   "metadata": {},
   "outputs": [
    {
     "data": {
      "text/plain": [
       "array([1, 2, 3, 4, 5, 6])"
      ]
     },
     "execution_count": 46,
     "metadata": {},
     "output_type": "execute_result"
    }
   ],
   "source": [
    "n1= np.array([1,2,3])\n",
    "n2=np.array([4,5,6])\n",
    "np.concatenate([n1,n2])"
   ]
  },
  {
   "cell_type": "code",
   "execution_count": 48,
   "id": "513e589a",
   "metadata": {},
   "outputs": [],
   "source": [
    "grid= np.array([[1,2,3],\n",
    "              [4,5,6]])"
   ]
  },
  {
   "cell_type": "code",
   "execution_count": 49,
   "id": "aafe4312",
   "metadata": {},
   "outputs": [
    {
     "data": {
      "text/plain": [
       "array([[1, 2, 3, 1, 2, 3],\n",
       "       [4, 5, 6, 4, 5, 6]])"
      ]
     },
     "execution_count": 49,
     "metadata": {},
     "output_type": "execute_result"
    }
   ],
   "source": [
    "np.concatenate([grid,grid],axis=1)"
   ]
  },
  {
   "cell_type": "code",
   "execution_count": 50,
   "id": "44096745",
   "metadata": {},
   "outputs": [
    {
     "data": {
      "text/plain": [
       "(array([1]), array([ 2,  3,  6, 79]), array([79, 90,  9]))"
      ]
     },
     "execution_count": 50,
     "metadata": {},
     "output_type": "execute_result"
    }
   ],
   "source": [
    "x=[1,2,3,6,79,79,90,9]\n",
    "x1,x2,x3= np.split(x,(1,5)) #splitting into 3 array\n",
    "x1,x2,x3"
   ]
  },
  {
   "cell_type": "markdown",
   "id": "936b88c4",
   "metadata": {},
   "source": [
    "# table"
   ]
  },
  {
   "cell_type": "code",
   "execution_count": 1,
   "id": "2de80463",
   "metadata": {},
   "outputs": [
    {
     "name": "stdout",
     "output_type": "stream",
     "text": [
      "6\n"
     ]
    },
    {
     "ename": "TypeError",
     "evalue": "'num' is an invalid keyword argument for print()",
     "output_type": "error",
     "traceback": [
      "\u001b[1;31m---------------------------------------------------------------------------\u001b[0m",
      "\u001b[1;31mTypeError\u001b[0m                                 Traceback (most recent call last)",
      "\u001b[1;32m<ipython-input-1-c1a808721de4>\u001b[0m in \u001b[0;36m<module>\u001b[1;34m\u001b[0m\n\u001b[0;32m      1\u001b[0m \u001b[0muser\u001b[0m\u001b[1;33m=\u001b[0m \u001b[0minput\u001b[0m\u001b[1;33m(\u001b[0m\u001b[1;33m)\u001b[0m\u001b[1;33m\u001b[0m\u001b[1;33m\u001b[0m\u001b[0m\n\u001b[0;32m      2\u001b[0m \u001b[1;32mfor\u001b[0m \u001b[0mi\u001b[0m \u001b[1;32min\u001b[0m \u001b[0mrange\u001b[0m\u001b[1;33m(\u001b[0m\u001b[1;36m1\u001b[0m\u001b[1;33m,\u001b[0m\u001b[1;36m10\u001b[0m\u001b[1;33m+\u001b[0m\u001b[1;36m1\u001b[0m\u001b[1;33m)\u001b[0m\u001b[1;33m:\u001b[0m\u001b[1;33m\u001b[0m\u001b[1;33m\u001b[0m\u001b[0m\n\u001b[1;32m----> 3\u001b[1;33m     \u001b[0mprint\u001b[0m\u001b[1;33m(\u001b[0m\u001b[0mnum\u001b[0m\u001b[1;33m=\u001b[0m \u001b[0mi\u001b[0m\u001b[1;33m*\u001b[0m\u001b[0muser\u001b[0m\u001b[1;33m)\u001b[0m\u001b[1;33m\u001b[0m\u001b[1;33m\u001b[0m\u001b[0m\n\u001b[0m\u001b[0;32m      4\u001b[0m \u001b[1;33m\u001b[0m\u001b[0m\n",
      "\u001b[1;31mTypeError\u001b[0m: 'num' is an invalid keyword argument for print()"
     ]
    }
   ],
   "source": []
  },
  {
   "cell_type": "code",
   "execution_count": 31,
   "id": "c35d579d",
   "metadata": {},
   "outputs": [
    {
     "name": "stdout",
     "output_type": "stream",
     "text": [
      "enter the number\n",
      "566\n",
      "17\n"
     ]
    }
   ],
   "source": [
    "#sum of count of input\n",
    "\n",
    "a=int(input(\"enter the number\\n\"))\n",
    "def sum(x):\n",
    "    if(x<1):\n",
    "        return 0\n",
    "    return x%10+sum(x//10)\n",
    "print(sum(a))"
   ]
  },
  {
   "cell_type": "code",
   "execution_count": 33,
   "id": "68bc82c8",
   "metadata": {},
   "outputs": [
    {
     "name": "stdout",
     "output_type": "stream",
     "text": [
      "hi\n",
      "hi\n",
      "1\n"
     ]
    }
   ],
   "source": [
    "s1 = input()\n",
    "s2 = input()\n",
    "\n",
    "new_s1 = s1.split()\n",
    "#print(set(new_s1))\n",
    "#print(new_s1)\n",
    "new_s2 = s2.split()\n",
    "set(new_s2)\n",
    "comm_words = set(new_s1) & set(new_s2)\n",
    "print((comm_words))"
   ]
  },
  {
   "cell_type": "markdown",
   "id": "c4b118ea",
   "metadata": {},
   "source": [
    "# Pandas"
   ]
  },
  {
   "cell_type": "code",
   "execution_count": 1,
   "id": "f41044df",
   "metadata": {},
   "outputs": [],
   "source": [
    "import pandas as pd"
   ]
  },
  {
   "cell_type": "code",
   "execution_count": null,
   "id": "1ccc0f0d",
   "metadata": {},
   "outputs": [],
   "source": [
    "#Q1 difference between numpy array and pandas series data"
   ]
  },
  {
   "cell_type": "code",
   "execution_count": 4,
   "id": "8450b192",
   "metadata": {},
   "outputs": [
    {
     "data": {
      "text/plain": [
       "0    1\n",
       "1    2\n",
       "2    3\n",
       "3    4\n",
       "dtype: int64"
      ]
     },
     "execution_count": 4,
     "metadata": {},
     "output_type": "execute_result"
    }
   ],
   "source": [
    "x1= pd.Series([1,2,3,4]) #series \"S\" always be cap\n",
    "x1 "
   ]
  },
  {
   "cell_type": "code",
   "execution_count": 6,
   "id": "814935c5",
   "metadata": {},
   "outputs": [
    {
     "data": {
      "text/plain": [
       "a    1\n",
       "b    2\n",
       "c    3\n",
       "d    4\n",
       "dtype: int64"
      ]
     },
     "execution_count": 6,
     "metadata": {},
     "output_type": "execute_result"
    }
   ],
   "source": [
    "x2= pd.Series([1,2,3,4],index=[\"a\",\"b\",\"c\",\"d\"])\n",
    "x2"
   ]
  },
  {
   "cell_type": "code",
   "execution_count": 15,
   "id": "116b987f",
   "metadata": {},
   "outputs": [
    {
     "data": {
      "text/plain": [
       "{'key1': 14, 'key2': 13}"
      ]
     },
     "execution_count": 15,
     "metadata": {},
     "output_type": "execute_result"
    }
   ],
   "source": [
    "a={'key1':12, 'key2':13, 'key1':14} #if same key's exist with different values it takes values from back\n",
    "a"
   ]
  },
  {
   "cell_type": "code",
   "execution_count": 16,
   "id": "c9c9c28a",
   "metadata": {},
   "outputs": [
    {
     "ename": "ValueError",
     "evalue": "Length of passed values is 3, index implies 4.",
     "output_type": "error",
     "traceback": [
      "\u001b[1;31m---------------------------------------------------------------------------\u001b[0m",
      "\u001b[1;31mValueError\u001b[0m                                Traceback (most recent call last)",
      "\u001b[1;32m<ipython-input-16-53bacac90af9>\u001b[0m in \u001b[0;36m<module>\u001b[1;34m\u001b[0m\n\u001b[0;32m      1\u001b[0m \u001b[1;31m#what if we have 3 values and 4 indexes in series\u001b[0m\u001b[1;33m\u001b[0m\u001b[1;33m\u001b[0m\u001b[1;33m\u001b[0m\u001b[0m\n\u001b[1;32m----> 2\u001b[1;33m \u001b[0ma\u001b[0m\u001b[1;33m=\u001b[0m\u001b[0mpd\u001b[0m\u001b[1;33m.\u001b[0m\u001b[0mSeries\u001b[0m\u001b[1;33m(\u001b[0m\u001b[1;33m[\u001b[0m\u001b[1;36m1\u001b[0m\u001b[1;33m,\u001b[0m\u001b[1;36m2\u001b[0m\u001b[1;33m,\u001b[0m\u001b[1;36m3\u001b[0m\u001b[1;33m]\u001b[0m\u001b[1;33m,\u001b[0m \u001b[0mindex\u001b[0m\u001b[1;33m=\u001b[0m\u001b[1;33m[\u001b[0m\u001b[1;34m\"A\"\u001b[0m\u001b[1;33m,\u001b[0m\u001b[1;34m\"B\"\u001b[0m\u001b[1;33m,\u001b[0m\u001b[1;34m\"C\"\u001b[0m\u001b[1;33m,\u001b[0m\u001b[1;34m\"D\"\u001b[0m\u001b[1;33m]\u001b[0m\u001b[1;33m)\u001b[0m\u001b[1;33m\u001b[0m\u001b[1;33m\u001b[0m\u001b[0m\n\u001b[0m\u001b[0;32m      3\u001b[0m \u001b[0ma\u001b[0m\u001b[1;33m\u001b[0m\u001b[1;33m\u001b[0m\u001b[0m\n",
      "\u001b[1;32m~\\anaconda3\\lib\\site-packages\\pandas\\core\\series.py\u001b[0m in \u001b[0;36m__init__\u001b[1;34m(self, data, index, dtype, name, copy, fastpath)\u001b[0m\n\u001b[0;32m    348\u001b[0m                 \u001b[1;32mtry\u001b[0m\u001b[1;33m:\u001b[0m\u001b[1;33m\u001b[0m\u001b[1;33m\u001b[0m\u001b[0m\n\u001b[0;32m    349\u001b[0m                     \u001b[1;32mif\u001b[0m \u001b[0mlen\u001b[0m\u001b[1;33m(\u001b[0m\u001b[0mindex\u001b[0m\u001b[1;33m)\u001b[0m \u001b[1;33m!=\u001b[0m \u001b[0mlen\u001b[0m\u001b[1;33m(\u001b[0m\u001b[0mdata\u001b[0m\u001b[1;33m)\u001b[0m\u001b[1;33m:\u001b[0m\u001b[1;33m\u001b[0m\u001b[1;33m\u001b[0m\u001b[0m\n\u001b[1;32m--> 350\u001b[1;33m                         raise ValueError(\n\u001b[0m\u001b[0;32m    351\u001b[0m                             \u001b[1;34mf\"Length of passed values is {len(data)}, \"\u001b[0m\u001b[1;33m\u001b[0m\u001b[1;33m\u001b[0m\u001b[0m\n\u001b[0;32m    352\u001b[0m                             \u001b[1;34mf\"index implies {len(index)}.\"\u001b[0m\u001b[1;33m\u001b[0m\u001b[1;33m\u001b[0m\u001b[0m\n",
      "\u001b[1;31mValueError\u001b[0m: Length of passed values is 3, index implies 4."
     ]
    }
   ],
   "source": [
    "#what if we have 3 values and 4 indexes in series, it gives error .(length of passed value is 3, index implies 4) \n",
    "a=pd.Series([1,2,3], index=[\"A\",\"B\",\"C\",\"D\"])  \n",
    "a "
   ]
  },
  {
   "cell_type": "code",
   "execution_count": 19,
   "id": "6565d801",
   "metadata": {},
   "outputs": [
    {
     "data": {
      "text/plain": [
       "0    a\n",
       "1    b\n",
       "2    c\n",
       "3    c\n",
       "dtype: object"
      ]
     },
     "execution_count": 19,
     "metadata": {},
     "output_type": "execute_result"
    }
   ],
   "source": [
    "x= np.array([\"a\",\"b\",\"c\",\"c\"])\n",
    "p=pd.Series(x) #if we have similar indexes , it doesnot bother it stores the value\n",
    "p"
   ]
  },
  {
   "cell_type": "code",
   "execution_count": 23,
   "id": "cd276cba",
   "metadata": {},
   "outputs": [
    {
     "data": {
      "text/plain": [
       "a    7\n",
       "b    7\n",
       "c    7\n",
       "d    7\n",
       "e    7\n",
       "g    7\n",
       "g    7\n",
       "dtype: int64"
      ]
     },
     "execution_count": 23,
     "metadata": {},
     "output_type": "execute_result"
    }
   ],
   "source": [
    "c1= pd.Series(7,index=[\"a\",\"b\",\"c\",\"d\",\"e\",\"g\",\"g\"])\n",
    "c1"
   ]
  },
  {
   "cell_type": "code",
   "execution_count": 26,
   "id": "f1885526",
   "metadata": {},
   "outputs": [
    {
     "data": {
      "text/plain": [
       "7"
      ]
     },
     "execution_count": 26,
     "metadata": {},
     "output_type": "execute_result"
    }
   ],
   "source": [
    "c1[5] #extracting a single element"
   ]
  },
  {
   "cell_type": "code",
   "execution_count": 27,
   "id": "de721b16",
   "metadata": {},
   "outputs": [
    {
     "data": {
      "text/plain": [
       "g    7\n",
       "g    7\n",
       "dtype: int64"
      ]
     },
     "execution_count": 27,
     "metadata": {},
     "output_type": "execute_result"
    }
   ],
   "source": [
    "c1[\"g\"]"
   ]
  },
  {
   "cell_type": "code",
   "execution_count": 28,
   "id": "a6a623d7",
   "metadata": {},
   "outputs": [
    {
     "data": {
      "text/plain": [
       "a    7\n",
       "d    7\n",
       "g    7\n",
       "dtype: int64"
      ]
     },
     "execution_count": 28,
     "metadata": {},
     "output_type": "execute_result"
    }
   ],
   "source": [
    "c1[::3] #increment +3"
   ]
  },
  {
   "cell_type": "markdown",
   "id": "403614b3",
   "metadata": {},
   "source": [
    "# Retrieve data using Label(index)"
   ]
  },
  {
   "cell_type": "code",
   "execution_count": null,
   "id": "86413d29",
   "metadata": {},
   "outputs": [],
   "source": []
  },
  {
   "cell_type": "markdown",
   "id": "6d0a077a",
   "metadata": {},
   "source": [
    "# day 12"
   ]
  },
  {
   "cell_type": "code",
   "execution_count": 1,
   "id": "e3544468",
   "metadata": {},
   "outputs": [],
   "source": [
    "import numpy as np\n",
    "import pandas as pd "
   ]
  },
  {
   "cell_type": "code",
   "execution_count": 2,
   "id": "457f9f95",
   "metadata": {},
   "outputs": [
    {
     "data": {
      "text/plain": [
       "0     1.61\n",
       "1     0.51\n",
       "2     0.87\n",
       "3     1.11\n",
       "4     0.70\n",
       "5     0.54\n",
       "6    -0.09\n",
       "7    -0.05\n",
       "8    -0.85\n",
       "9    -1.72\n",
       "10   -0.62\n",
       "11   -2.07\n",
       "12   -1.52\n",
       "13    0.16\n",
       "14   -0.54\n",
       "15    0.80\n",
       "16   -0.79\n",
       "17   -1.89\n",
       "18   -0.32\n",
       "19    0.50\n",
       "20    0.58\n",
       "21   -0.33\n",
       "22    0.05\n",
       "23   -0.21\n",
       "24   -1.08\n",
       "25    0.39\n",
       "26   -1.12\n",
       "27   -0.46\n",
       "28   -1.06\n",
       "29    0.29\n",
       "30   -0.02\n",
       "31    1.24\n",
       "32   -0.18\n",
       "33   -0.29\n",
       "34   -0.50\n",
       "35    0.06\n",
       "36   -0.87\n",
       "37   -0.45\n",
       "38   -0.94\n",
       "39    0.57\n",
       "40   -0.21\n",
       "41   -1.95\n",
       "42   -1.38\n",
       "43    1.05\n",
       "44    0.82\n",
       "45    0.35\n",
       "46    0.92\n",
       "47   -0.62\n",
       "48    1.30\n",
       "49    0.53\n",
       "dtype: float64"
      ]
     },
     "execution_count": 2,
     "metadata": {},
     "output_type": "execute_result"
    }
   ],
   "source": [
    "a= pd.Series(np.random.randn(50).round(2)) #float values using numpy\n",
    "a"
   ]
  },
  {
   "cell_type": "code",
   "execution_count": 3,
   "id": "7b0886f6",
   "metadata": {},
   "outputs": [
    {
     "data": {
      "text/plain": [
       "0    1.61\n",
       "1    0.51\n",
       "2    0.87\n",
       "3    1.11\n",
       "4    0.70\n",
       "5    0.54\n",
       "6   -0.09\n",
       "7   -0.05\n",
       "8   -0.85\n",
       "9   -1.72\n",
       "dtype: float64"
      ]
     },
     "execution_count": 3,
     "metadata": {},
     "output_type": "execute_result"
    }
   ],
   "source": [
    "a.head(n=10) #first 10"
   ]
  },
  {
   "cell_type": "code",
   "execution_count": 4,
   "id": "7c0f03c2",
   "metadata": {},
   "outputs": [
    {
     "data": {
      "text/plain": [
       "40   -0.21\n",
       "41   -1.95\n",
       "42   -1.38\n",
       "43    1.05\n",
       "44    0.82\n",
       "45    0.35\n",
       "46    0.92\n",
       "47   -0.62\n",
       "48    1.30\n",
       "49    0.53\n",
       "dtype: float64"
      ]
     },
     "execution_count": 4,
     "metadata": {},
     "output_type": "execute_result"
    }
   ],
   "source": [
    "a.tail(n=10) #last 10"
   ]
  },
  {
   "cell_type": "code",
   "execution_count": null,
   "id": "825e6c71",
   "metadata": {},
   "outputs": [],
   "source": [
    "#perfect number"
   ]
  },
  {
   "cell_type": "code",
   "execution_count": 5,
   "id": "1f389dec",
   "metadata": {},
   "outputs": [
    {
     "name": "stdout",
     "output_type": "stream",
     "text": [
      "6\n",
      "True\n"
     ]
    }
   ],
   "source": [
    "num = int(input())\n",
    "\n",
    "f=list()\n",
    "\n",
    "for i in range(1,num):\n",
    "    if num%i ==0:\n",
    "        f.append(i)\n",
    "\n",
    "print(sum(f) == num)"
   ]
  },
  {
   "cell_type": "code",
   "execution_count": 6,
   "id": "1e916faf",
   "metadata": {},
   "outputs": [
    {
     "name": "stdout",
     "output_type": "stream",
     "text": [
      "Enter your number to check: 6\n",
      "6 is perfect number\n"
     ]
    }
   ],
   "source": [
    "def pf(x):\n",
    "    temp = 0\n",
    "    for i in range(1,x):\n",
    "        if(x%i==0):\n",
    "            temp+=i\n",
    "    if (temp==x):\n",
    "        print(str(x)+\" is perfect number\")\n",
    "    else:\n",
    "        print(str(x)+\" is not perfect number\")\n",
    "x = int(input(\"Enter your number to check: \"))\n",
    "pf(x)\n"
   ]
  },
  {
   "cell_type": "code",
   "execution_count": 11,
   "id": "ed9e961c",
   "metadata": {},
   "outputs": [
    {
     "name": "stdout",
     "output_type": "stream",
     "text": [
      "Insert a number: 28\n",
      "28 is a perfect number\n"
     ]
    }
   ],
   "source": [
    "n = int(input(\"Insert a number: \")) #n= 6 \n",
    "sum = 0\n",
    "for i in range(1, n): \n",
    "    if n % i == 0: #6%1,6%2 , 6%3 \n",
    "        sum += i #1,#3, #6\n",
    "if sum == n:\n",
    "    print(str(n) + \" is a perfect number\")\n",
    "else:\n",
    "    print(str(n) + \" is NOT a perfect number\")\n",
    "    \n",
    "\n",
    "#input value tak loop chalega or unki jo value hogi wo first divisible condition m jayega like if it is divisible by the loop numbers then it will goes to next condition where it added into new variable (which contains only those values which are divisible by the loop numbers(like 6 is divisible by 1,2,3(where 1,2,3 are loop numbers)) then it will check if the input or sum values are same then it's a perfect number otherwise not.) )"
   ]
  },
  {
   "cell_type": "markdown",
   "id": "dd86951c",
   "metadata": {},
   "source": [
    "# outliers"
   ]
  },
  {
   "cell_type": "code",
   "execution_count": 12,
   "id": "58bfa702",
   "metadata": {},
   "outputs": [
    {
     "data": {
      "text/plain": [
       "<bound method NDFrame.head of 0      1.61\n",
       "1      0.51\n",
       "2      0.87\n",
       "3      1.11\n",
       "4       0.7\n",
       "5      0.54\n",
       "6     -0.09\n",
       "7     -0.05\n",
       "8     -0.85\n",
       "9     -1.72\n",
       "10    -0.62\n",
       "11    -2.07\n",
       "12    -1.52\n",
       "13     0.16\n",
       "14    -0.54\n",
       "15      0.8\n",
       "16    -0.79\n",
       "17    -1.89\n",
       "18    -0.32\n",
       "19      0.5\n",
       "20     0.58\n",
       "21    -0.33\n",
       "22     0.05\n",
       "23    -0.21\n",
       "24    -1.08\n",
       "25     0.39\n",
       "26    -1.12\n",
       "27    -0.46\n",
       "28    -1.06\n",
       "29     0.29\n",
       "30    -0.02\n",
       "31     1.24\n",
       "32    -0.18\n",
       "33    -0.29\n",
       "34     -0.5\n",
       "35     0.06\n",
       "36    -0.87\n",
       "37    -0.45\n",
       "38    -0.94\n",
       "39     0.57\n",
       "40    -0.21\n",
       "41    -1.95\n",
       "42    -1.38\n",
       "43     1.05\n",
       "44     0.82\n",
       "45     0.35\n",
       "46     0.92\n",
       "47    -0.62\n",
       "48      1.3\n",
       "49     0.53\n",
       "dtype: object>"
      ]
     },
     "execution_count": 12,
     "metadata": {},
     "output_type": "execute_result"
    }
   ],
   "source": [
    "a.astype(str).head #convert data into string"
   ]
  },
  {
   "cell_type": "code",
   "execution_count": 14,
   "id": "3324bfcf",
   "metadata": {},
   "outputs": [
    {
     "ename": "AttributeError",
     "evalue": "'Series' object has no attribute 'clip_Upper'",
     "output_type": "error",
     "traceback": [
      "\u001b[1;31m---------------------------------------------------------------------------\u001b[0m",
      "\u001b[1;31mAttributeError\u001b[0m                            Traceback (most recent call last)",
      "\u001b[1;32m<ipython-input-14-6fd1ae8d3a28>\u001b[0m in \u001b[0;36m<module>\u001b[1;34m\u001b[0m\n\u001b[1;32m----> 1\u001b[1;33m \u001b[0ma\u001b[0m\u001b[1;33m.\u001b[0m\u001b[0mclip_Upper\u001b[0m\u001b[1;33m(\u001b[0m\u001b[1;36m.28\u001b[0m\u001b[1;33m)\u001b[0m\u001b[1;33m.\u001b[0m\u001b[0mhead\u001b[0m\u001b[1;33m(\u001b[0m\u001b[1;33m)\u001b[0m \u001b[1;31m#threshold upper most limit\u001b[0m\u001b[1;33m\u001b[0m\u001b[1;33m\u001b[0m\u001b[0m\n\u001b[0m",
      "\u001b[1;32m~\\anaconda3\\lib\\site-packages\\pandas\\core\\generic.py\u001b[0m in \u001b[0;36m__getattr__\u001b[1;34m(self, name)\u001b[0m\n\u001b[0;32m   5463\u001b[0m             \u001b[1;32mif\u001b[0m \u001b[0mself\u001b[0m\u001b[1;33m.\u001b[0m\u001b[0m_info_axis\u001b[0m\u001b[1;33m.\u001b[0m\u001b[0m_can_hold_identifiers_and_holds_name\u001b[0m\u001b[1;33m(\u001b[0m\u001b[0mname\u001b[0m\u001b[1;33m)\u001b[0m\u001b[1;33m:\u001b[0m\u001b[1;33m\u001b[0m\u001b[1;33m\u001b[0m\u001b[0m\n\u001b[0;32m   5464\u001b[0m                 \u001b[1;32mreturn\u001b[0m \u001b[0mself\u001b[0m\u001b[1;33m[\u001b[0m\u001b[0mname\u001b[0m\u001b[1;33m]\u001b[0m\u001b[1;33m\u001b[0m\u001b[1;33m\u001b[0m\u001b[0m\n\u001b[1;32m-> 5465\u001b[1;33m             \u001b[1;32mreturn\u001b[0m \u001b[0mobject\u001b[0m\u001b[1;33m.\u001b[0m\u001b[0m__getattribute__\u001b[0m\u001b[1;33m(\u001b[0m\u001b[0mself\u001b[0m\u001b[1;33m,\u001b[0m \u001b[0mname\u001b[0m\u001b[1;33m)\u001b[0m\u001b[1;33m\u001b[0m\u001b[1;33m\u001b[0m\u001b[0m\n\u001b[0m\u001b[0;32m   5466\u001b[0m \u001b[1;33m\u001b[0m\u001b[0m\n\u001b[0;32m   5467\u001b[0m     \u001b[1;32mdef\u001b[0m \u001b[0m__setattr__\u001b[0m\u001b[1;33m(\u001b[0m\u001b[0mself\u001b[0m\u001b[1;33m,\u001b[0m \u001b[0mname\u001b[0m\u001b[1;33m:\u001b[0m \u001b[0mstr\u001b[0m\u001b[1;33m,\u001b[0m \u001b[0mvalue\u001b[0m\u001b[1;33m)\u001b[0m \u001b[1;33m->\u001b[0m \u001b[1;32mNone\u001b[0m\u001b[1;33m:\u001b[0m\u001b[1;33m\u001b[0m\u001b[1;33m\u001b[0m\u001b[0m\n",
      "\u001b[1;31mAttributeError\u001b[0m: 'Series' object has no attribute 'clip_Upper'"
     ]
    }
   ],
   "source": [
    "a.clip_upper(.28).head() #threshold upper most limit"
   ]
  },
  {
   "cell_type": "code",
   "execution_count": 15,
   "id": "5ac36548",
   "metadata": {},
   "outputs": [
    {
     "ename": "AttributeError",
     "evalue": "'Series' object has no attribute 'clip_lower'",
     "output_type": "error",
     "traceback": [
      "\u001b[1;31m---------------------------------------------------------------------------\u001b[0m",
      "\u001b[1;31mAttributeError\u001b[0m                            Traceback (most recent call last)",
      "\u001b[1;32m<ipython-input-15-93846e9d8ac0>\u001b[0m in \u001b[0;36m<module>\u001b[1;34m\u001b[0m\n\u001b[1;32m----> 1\u001b[1;33m \u001b[0ma\u001b[0m\u001b[1;33m.\u001b[0m\u001b[0mclip_lower\u001b[0m\u001b[1;33m(\u001b[0m\u001b[1;36m.33\u001b[0m\u001b[1;33m)\u001b[0m\u001b[1;33m.\u001b[0m\u001b[0mhead\u001b[0m\u001b[1;33m(\u001b[0m\u001b[1;33m)\u001b[0m\u001b[1;33m\u001b[0m\u001b[1;33m\u001b[0m\u001b[0m\n\u001b[0m",
      "\u001b[1;32m~\\anaconda3\\lib\\site-packages\\pandas\\core\\generic.py\u001b[0m in \u001b[0;36m__getattr__\u001b[1;34m(self, name)\u001b[0m\n\u001b[0;32m   5463\u001b[0m             \u001b[1;32mif\u001b[0m \u001b[0mself\u001b[0m\u001b[1;33m.\u001b[0m\u001b[0m_info_axis\u001b[0m\u001b[1;33m.\u001b[0m\u001b[0m_can_hold_identifiers_and_holds_name\u001b[0m\u001b[1;33m(\u001b[0m\u001b[0mname\u001b[0m\u001b[1;33m)\u001b[0m\u001b[1;33m:\u001b[0m\u001b[1;33m\u001b[0m\u001b[1;33m\u001b[0m\u001b[0m\n\u001b[0;32m   5464\u001b[0m                 \u001b[1;32mreturn\u001b[0m \u001b[0mself\u001b[0m\u001b[1;33m[\u001b[0m\u001b[0mname\u001b[0m\u001b[1;33m]\u001b[0m\u001b[1;33m\u001b[0m\u001b[1;33m\u001b[0m\u001b[0m\n\u001b[1;32m-> 5465\u001b[1;33m             \u001b[1;32mreturn\u001b[0m \u001b[0mobject\u001b[0m\u001b[1;33m.\u001b[0m\u001b[0m__getattribute__\u001b[0m\u001b[1;33m(\u001b[0m\u001b[0mself\u001b[0m\u001b[1;33m,\u001b[0m \u001b[0mname\u001b[0m\u001b[1;33m)\u001b[0m\u001b[1;33m\u001b[0m\u001b[1;33m\u001b[0m\u001b[0m\n\u001b[0m\u001b[0;32m   5466\u001b[0m \u001b[1;33m\u001b[0m\u001b[0m\n\u001b[0;32m   5467\u001b[0m     \u001b[1;32mdef\u001b[0m \u001b[0m__setattr__\u001b[0m\u001b[1;33m(\u001b[0m\u001b[0mself\u001b[0m\u001b[1;33m,\u001b[0m \u001b[0mname\u001b[0m\u001b[1;33m:\u001b[0m \u001b[0mstr\u001b[0m\u001b[1;33m,\u001b[0m \u001b[0mvalue\u001b[0m\u001b[1;33m)\u001b[0m \u001b[1;33m->\u001b[0m \u001b[1;32mNone\u001b[0m\u001b[1;33m:\u001b[0m\u001b[1;33m\u001b[0m\u001b[1;33m\u001b[0m\u001b[0m\n",
      "\u001b[1;31mAttributeError\u001b[0m: 'Series' object has no attribute 'clip_lower'"
     ]
    }
   ],
   "source": [
    "a.clip_lower(.33).head()"
   ]
  },
  {
   "cell_type": "markdown",
   "id": "696fa100",
   "metadata": {},
   "source": [
    "# Replacing value"
   ]
  },
  {
   "cell_type": "code",
   "execution_count": null,
   "id": "3476d378",
   "metadata": {},
   "outputs": [],
   "source": [
    "clths= pd.Series([])"
   ]
  },
  {
   "cell_type": "code",
   "execution_count": null,
   "id": "df35fa81",
   "metadata": {},
   "outputs": [],
   "source": []
  },
  {
   "cell_type": "markdown",
   "id": "9990d52e",
   "metadata": {},
   "source": [
    "# Assignement question\n"
   ]
  },
  {
   "cell_type": "code",
   "execution_count": null,
   "id": "b8d3ff0f",
   "metadata": {},
   "outputs": [],
   "source": [
    "#Write a Python program for sum of any 3 elements is 8 from a given list and display output as below. list = [1,2,3,4,5,6,7]\n",
    "#Output: 1+3+4 = 8 , 1+2+5 = 8"
   ]
  },
  {
   "cell_type": "code",
   "execution_count": 5,
   "id": "9a1c1d7e",
   "metadata": {},
   "outputs": [
    {
     "name": "stdout",
     "output_type": "stream",
     "text": [
      "1\n"
     ]
    }
   ],
   "source": [
    "li =[1,2,3,4,5,6,7]\n",
    "print(li[0])\n",
    "\n",
    "def add():\n",
    "    if((li[0]+li[1]+li[2])==8):\n",
    "        print(li[0]+str(+)+li[1]+str(+)+li[2]\"=8\")\n",
    "    elif((li[0]+li[2]+li[3])==8):\n",
    "          print(li[0]+str(+)+li[1]+str(+)+li[2]\"=8\")\n",
    "add()"
   ]
  },
  {
   "cell_type": "code",
   "execution_count": 6,
   "id": "adb45c1a",
   "metadata": {},
   "outputs": [
    {
     "name": "stdout",
     "output_type": "stream",
     "text": [
      "6\n"
     ]
    }
   ],
   "source": [
    "def add():\n",
    "    if((li[0]+li[1]+li[2])==8):\n",
    "        print(li[0])\n",
    "    elif((li[0]+li[2]+li[3])==8):\n",
    "          print(li[0]+li[1]+li[2])\n",
    "add()"
   ]
  },
  {
   "cell_type": "code",
   "execution_count": 60,
   "id": "bff1f63c",
   "metadata": {},
   "outputs": [
    {
     "name": "stdout",
     "output_type": "stream",
     "text": [
      "[23, 13, 14, 56]\n",
      "[56, 13, 14, 23]\n"
     ]
    }
   ],
   "source": [
    "#Write a program to SWAP the first and last value of a list\n",
    "\n",
    "def listchange(li):\n",
    "     \n",
    "    li[0], li[-1] = li[-1], li[0]\n",
    " \n",
    "    return li\n",
    "\n",
    "li=[23,13,14,56]\n",
    "print(li)\n",
    "print(listchange(newList))"
   ]
  },
  {
   "cell_type": "code",
   "execution_count": 89,
   "id": "8efcca85",
   "metadata": {},
   "outputs": [
    {
     "name": "stdout",
     "output_type": "stream",
     "text": [
      "(1, 2, 3)\n",
      "(3, 2, 1)\n"
     ]
    }
   ],
   "source": [
    "#Write a Python program to reverse a number in Python.\n",
    "list=(1,2,3)\n",
    "print(list)\n",
    "\n",
    "print(list[::-1])\n",
    "\n"
   ]
  },
  {
   "cell_type": "code",
   "execution_count": 100,
   "id": "d195fae5",
   "metadata": {},
   "outputs": [
    {
     "name": "stdout",
     "output_type": "stream",
     "text": [
      "145\n",
      "The number is a strong number\n"
     ]
    }
   ],
   "source": [
    "#10.Write a Python program to check if a number is a Strong Number.\n",
    "n=0\n",
    "a= int(input())\n",
    "temp=a\n",
    "while(a):\n",
    "    i=1\n",
    "    fac=1\n",
    "    r=a%10\n",
    "    while(i<=r):\n",
    "        fac=fac*i\n",
    "        i=i+1\n",
    "    n=n+fac\n",
    "    a=a//10\n",
    "        \n",
    "if(n==temp):\n",
    "    print(\"The number is a strong number\")\n",
    "else:\n",
    "    print(\"The number is not a strong number\")\n",
    "        "
   ]
  },
  {
   "cell_type": "markdown",
   "id": "f444f6c1",
   "metadata": {},
   "source": [
    "# dataframes"
   ]
  },
  {
   "cell_type": "code",
   "execution_count": 8,
   "id": "dc6c8c48",
   "metadata": {},
   "outputs": [],
   "source": [
    "import numpy as np"
   ]
  },
  {
   "cell_type": "code",
   "execution_count": 9,
   "id": "bf11ce8c",
   "metadata": {},
   "outputs": [],
   "source": [
    "import pandas as pd"
   ]
  },
  {
   "cell_type": "code",
   "execution_count": 3,
   "id": "c90303fc",
   "metadata": {},
   "outputs": [
    {
     "data": {
      "text/html": [
       "<div>\n",
       "<style scoped>\n",
       "    .dataframe tbody tr th:only-of-type {\n",
       "        vertical-align: middle;\n",
       "    }\n",
       "\n",
       "    .dataframe tbody tr th {\n",
       "        vertical-align: top;\n",
       "    }\n",
       "\n",
       "    .dataframe thead th {\n",
       "        text-align: right;\n",
       "    }\n",
       "</style>\n",
       "<table border=\"1\" class=\"dataframe\">\n",
       "  <thead>\n",
       "    <tr style=\"text-align: right;\">\n",
       "      <th></th>\n",
       "      <th>0</th>\n",
       "    </tr>\n",
       "  </thead>\n",
       "  <tbody>\n",
       "    <tr>\n",
       "      <th>0</th>\n",
       "      <td>1</td>\n",
       "    </tr>\n",
       "    <tr>\n",
       "      <th>1</th>\n",
       "      <td>2</td>\n",
       "    </tr>\n",
       "    <tr>\n",
       "      <th>2</th>\n",
       "      <td>3</td>\n",
       "    </tr>\n",
       "    <tr>\n",
       "      <th>3</th>\n",
       "      <td>5</td>\n",
       "    </tr>\n",
       "  </tbody>\n",
       "</table>\n",
       "</div>"
      ],
      "text/plain": [
       "   0\n",
       "0  1\n",
       "1  2\n",
       "2  3\n",
       "3  5"
      ]
     },
     "execution_count": 3,
     "metadata": {},
     "output_type": "execute_result"
    }
   ],
   "source": [
    "x=[1,2,3,5]\n",
    "d1=pd.DataFrame(x)\n",
    "d1"
   ]
  },
  {
   "cell_type": "code",
   "execution_count": 4,
   "id": "5234a4fd",
   "metadata": {},
   "outputs": [
    {
     "data": {
      "text/html": [
       "<div>\n",
       "<style scoped>\n",
       "    .dataframe tbody tr th:only-of-type {\n",
       "        vertical-align: middle;\n",
       "    }\n",
       "\n",
       "    .dataframe tbody tr th {\n",
       "        vertical-align: top;\n",
       "    }\n",
       "\n",
       "    .dataframe thead th {\n",
       "        text-align: right;\n",
       "    }\n",
       "</style>\n",
       "<table border=\"1\" class=\"dataframe\">\n",
       "  <thead>\n",
       "    <tr style=\"text-align: right;\">\n",
       "      <th></th>\n",
       "      <th>0</th>\n",
       "      <th>1</th>\n",
       "      <th>2</th>\n",
       "    </tr>\n",
       "  </thead>\n",
       "  <tbody>\n",
       "    <tr>\n",
       "      <th>0</th>\n",
       "      <td>abc</td>\n",
       "      <td>12</td>\n",
       "      <td></td>\n",
       "    </tr>\n",
       "    <tr>\n",
       "      <th>1</th>\n",
       "      <td>efg</td>\n",
       "      <td>23</td>\n",
       "      <td></td>\n",
       "    </tr>\n",
       "    <tr>\n",
       "      <th>2</th>\n",
       "      <td>hij</td>\n",
       "      <td>12</td>\n",
       "      <td></td>\n",
       "    </tr>\n",
       "  </tbody>\n",
       "</table>\n",
       "</div>"
      ],
      "text/plain": [
       "     0   1 2\n",
       "0  abc  12  \n",
       "1  efg  23  \n",
       "2  hij  12  "
      ]
     },
     "execution_count": 4,
     "metadata": {},
     "output_type": "execute_result"
    }
   ],
   "source": [
    "data=[['abc',12,\"\"],[\"efg\",23,\"\"],[\"hij\",12,\"\"]]\n",
    "d2=pd.DataFrame(data)\n",
    "d2"
   ]
  },
  {
   "cell_type": "markdown",
   "id": "686f0a68",
   "metadata": {},
   "source": [
    "# creating df from dict"
   ]
  },
  {
   "cell_type": "code",
   "execution_count": 5,
   "id": "45b21cdd",
   "metadata": {},
   "outputs": [
    {
     "data": {
      "text/html": [
       "<div>\n",
       "<style scoped>\n",
       "    .dataframe tbody tr th:only-of-type {\n",
       "        vertical-align: middle;\n",
       "    }\n",
       "\n",
       "    .dataframe tbody tr th {\n",
       "        vertical-align: top;\n",
       "    }\n",
       "\n",
       "    .dataframe thead th {\n",
       "        text-align: right;\n",
       "    }\n",
       "</style>\n",
       "<table border=\"1\" class=\"dataframe\">\n",
       "  <thead>\n",
       "    <tr style=\"text-align: right;\">\n",
       "      <th></th>\n",
       "      <th>name</th>\n",
       "      <th>age</th>\n",
       "    </tr>\n",
       "  </thead>\n",
       "  <tbody>\n",
       "    <tr>\n",
       "      <th>0</th>\n",
       "      <td>abc</td>\n",
       "      <td>12</td>\n",
       "    </tr>\n",
       "    <tr>\n",
       "      <th>1</th>\n",
       "      <td>def</td>\n",
       "      <td>13</td>\n",
       "    </tr>\n",
       "    <tr>\n",
       "      <th>2</th>\n",
       "      <td>ghi</td>\n",
       "      <td>33</td>\n",
       "    </tr>\n",
       "  </tbody>\n",
       "</table>\n",
       "</div>"
      ],
      "text/plain": [
       "  name  age\n",
       "0  abc   12\n",
       "1  def   13\n",
       "2  ghi   33"
      ]
     },
     "execution_count": 5,
     "metadata": {},
     "output_type": "execute_result"
    }
   ],
   "source": [
    "data= {\"name\":[\"abc\",\"def\",\"ghi\"],\"age\":[12,13,33]}\n",
    "x= pd.DataFrame(data)\n",
    "x"
   ]
  },
  {
   "cell_type": "markdown",
   "id": "310eb86b",
   "metadata": {},
   "source": [
    "# create a df from list of dics"
   ]
  },
  {
   "cell_type": "code",
   "execution_count": 6,
   "id": "0be91ffd",
   "metadata": {},
   "outputs": [
    {
     "data": {
      "text/html": [
       "<div>\n",
       "<style scoped>\n",
       "    .dataframe tbody tr th:only-of-type {\n",
       "        vertical-align: middle;\n",
       "    }\n",
       "\n",
       "    .dataframe tbody tr th {\n",
       "        vertical-align: top;\n",
       "    }\n",
       "\n",
       "    .dataframe thead th {\n",
       "        text-align: right;\n",
       "    }\n",
       "</style>\n",
       "<table border=\"1\" class=\"dataframe\">\n",
       "  <thead>\n",
       "    <tr style=\"text-align: right;\">\n",
       "      <th></th>\n",
       "      <th>a</th>\n",
       "      <th>b</th>\n",
       "      <th>c</th>\n",
       "    </tr>\n",
       "  </thead>\n",
       "  <tbody>\n",
       "    <tr>\n",
       "      <th>0</th>\n",
       "      <td>3</td>\n",
       "      <td>4</td>\n",
       "      <td>NaN</td>\n",
       "    </tr>\n",
       "    <tr>\n",
       "      <th>1</th>\n",
       "      <td>43</td>\n",
       "      <td>xyz</td>\n",
       "      <td>33.0</td>\n",
       "    </tr>\n",
       "  </tbody>\n",
       "</table>\n",
       "</div>"
      ],
      "text/plain": [
       "    a    b     c\n",
       "0   3    4   NaN\n",
       "1  43  xyz  33.0"
      ]
     },
     "execution_count": 6,
     "metadata": {},
     "output_type": "execute_result"
    }
   ],
   "source": [
    "data=[{\"a\":3,\"b\":4},{\"a\":43,\"b\":\"xyz\",\"c\":33}]\n",
    "x=pd.DataFrame(data)\n",
    "x"
   ]
  },
  {
   "cell_type": "markdown",
   "id": "32fec926",
   "metadata": {},
   "source": [
    "## using a dic of equal length lists"
   ]
  },
  {
   "cell_type": "code",
   "execution_count": 5,
   "id": "e68186ad",
   "metadata": {},
   "outputs": [
    {
     "data": {
      "text/plain": [
       "{'ints': array([0, 1, 2, 3, 4]),\n",
       " 'floats': array([0.1, 1.5, 2.9, 4.3, 5.7]),\n",
       " 'strings': ['a', 'b', 'c', 'd', 'e']}"
      ]
     },
     "execution_count": 5,
     "metadata": {},
     "output_type": "execute_result"
    }
   ],
   "source": [
    "x={\"ints\":np.arange(5),\"floats\":np.arange(0.1,6.0,1.4),\"strings\":list(\"abcde\")}\n",
    "x"
   ]
  },
  {
   "cell_type": "code",
   "execution_count": 6,
   "id": "65c0cbe0",
   "metadata": {},
   "outputs": [
    {
     "data": {
      "text/html": [
       "<div>\n",
       "<style scoped>\n",
       "    .dataframe tbody tr th:only-of-type {\n",
       "        vertical-align: middle;\n",
       "    }\n",
       "\n",
       "    .dataframe tbody tr th {\n",
       "        vertical-align: top;\n",
       "    }\n",
       "\n",
       "    .dataframe thead th {\n",
       "        text-align: right;\n",
       "    }\n",
       "</style>\n",
       "<table border=\"1\" class=\"dataframe\">\n",
       "  <thead>\n",
       "    <tr style=\"text-align: right;\">\n",
       "      <th></th>\n",
       "      <th>ints</th>\n",
       "      <th>floats</th>\n",
       "      <th>strings</th>\n",
       "    </tr>\n",
       "  </thead>\n",
       "  <tbody>\n",
       "    <tr>\n",
       "      <th>a</th>\n",
       "      <td>0</td>\n",
       "      <td>0.1</td>\n",
       "      <td>a</td>\n",
       "    </tr>\n",
       "    <tr>\n",
       "      <th>b</th>\n",
       "      <td>1</td>\n",
       "      <td>1.5</td>\n",
       "      <td>b</td>\n",
       "    </tr>\n",
       "    <tr>\n",
       "      <th>c</th>\n",
       "      <td>2</td>\n",
       "      <td>2.9</td>\n",
       "      <td>c</td>\n",
       "    </tr>\n",
       "    <tr>\n",
       "      <th>d</th>\n",
       "      <td>3</td>\n",
       "      <td>4.3</td>\n",
       "      <td>d</td>\n",
       "    </tr>\n",
       "    <tr>\n",
       "      <th>e</th>\n",
       "      <td>4</td>\n",
       "      <td>5.7</td>\n",
       "      <td>e</td>\n",
       "    </tr>\n",
       "  </tbody>\n",
       "</table>\n",
       "</div>"
      ],
      "text/plain": [
       "   ints  floats strings\n",
       "a     0     0.1       a\n",
       "b     1     1.5       b\n",
       "c     2     2.9       c\n",
       "d     3     4.3       d\n",
       "e     4     5.7       e"
      ]
     },
     "execution_count": 6,
     "metadata": {},
     "output_type": "execute_result"
    }
   ],
   "source": [
    "df4=pd.DataFrame(x,index=list(\"abcde\"))\n",
    "df4"
   ]
  },
  {
   "cell_type": "code",
   "execution_count": 11,
   "id": "eae3f204",
   "metadata": {},
   "outputs": [
    {
     "data": {
      "text/plain": [
       "ints         int32\n",
       "floats     float64\n",
       "strings     object\n",
       "dtype: object"
      ]
     },
     "execution_count": 11,
     "metadata": {},
     "output_type": "execute_result"
    }
   ],
   "source": [
    "df4.dtypes"
   ]
  },
  {
   "cell_type": "markdown",
   "id": "e532308c",
   "metadata": {},
   "source": [
    "# subsetting "
   ]
  },
  {
   "cell_type": "markdown",
   "id": "2b2eae32",
   "metadata": {},
   "source": [
    "# selecting a single row/columns"
   ]
  },
  {
   "cell_type": "code",
   "execution_count": 7,
   "id": "e97b9e41",
   "metadata": {},
   "outputs": [
    {
     "ename": "NameError",
     "evalue": "name 'reshape' is not defined",
     "output_type": "error",
     "traceback": [
      "\u001b[1;31m---------------------------------------------------------------------------\u001b[0m",
      "\u001b[1;31mNameError\u001b[0m                                 Traceback (most recent call last)",
      "\u001b[1;32m<ipython-input-7-d850d04b2a85>\u001b[0m in \u001b[0;36m<module>\u001b[1;34m\u001b[0m\n\u001b[0;32m      1\u001b[0m \u001b[1;32mimport\u001b[0m \u001b[0mnumpy\u001b[0m \u001b[1;32mas\u001b[0m \u001b[0mnp\u001b[0m\u001b[1;33m\u001b[0m\u001b[1;33m\u001b[0m\u001b[0m\n\u001b[1;32m----> 2\u001b[1;33m \u001b[0mdf5\u001b[0m\u001b[1;33m=\u001b[0m \u001b[0mpd\u001b[0m\u001b[1;33m.\u001b[0m\u001b[0mDataFrame\u001b[0m\u001b[1;33m(\u001b[0m\u001b[0mnp\u001b[0m\u001b[1;33m.\u001b[0m\u001b[0marange\u001b[0m\u001b[1;33m(\u001b[0m\u001b[1;36m10\u001b[0m\u001b[1;33m,\u001b[0m\u001b[1;36m30\u001b[0m\u001b[1;33m)\u001b[0m\u001b[1;33m,\u001b[0m\u001b[0mreshape\u001b[0m\u001b[1;33m(\u001b[0m\u001b[1;36m5\u001b[0m\u001b[1;33m,\u001b[0m\u001b[1;36m2\u001b[0m\u001b[1;33m)\u001b[0m\u001b[1;33m)\u001b[0m\u001b[1;33m\u001b[0m\u001b[1;33m\u001b[0m\u001b[0m\n\u001b[0m",
      "\u001b[1;31mNameError\u001b[0m: name 'reshape' is not defined"
     ]
    }
   ],
   "source": [
    "import numpy as np\n",
    "df5= pd.DataFrame(np.arange(10,30),"
   ]
  },
  {
   "cell_type": "code",
   "execution_count": 11,
   "id": "118255c4",
   "metadata": {},
   "outputs": [
    {
     "data": {
      "text/plain": [
       "a    0.1\n",
       "b    1.5\n",
       "c    2.9\n",
       "d    4.3\n",
       "e    5.7\n",
       "Name: floats, dtype: float64"
      ]
     },
     "execution_count": 11,
     "metadata": {},
     "output_type": "execute_result"
    }
   ],
   "source": [
    "df4[\"floats\"]"
   ]
  },
  {
   "cell_type": "code",
   "execution_count": 12,
   "id": "0983b813",
   "metadata": {},
   "outputs": [
    {
     "data": {
      "text/plain": [
       "ints         1\n",
       "floats     1.5\n",
       "strings      b\n",
       "Name: b, dtype: object"
      ]
     },
     "execution_count": 12,
     "metadata": {},
     "output_type": "execute_result"
    }
   ],
   "source": [
    "df4.iloc[1]"
   ]
  },
  {
   "cell_type": "markdown",
   "id": "0943238e",
   "metadata": {},
   "source": [
    "# Practice csv"
   ]
  },
  {
   "cell_type": "code",
   "execution_count": 2,
   "id": "6085ac2d",
   "metadata": {},
   "outputs": [
    {
     "ename": "NameError",
     "evalue": "name 'pd' is not defined",
     "output_type": "error",
     "traceback": [
      "\u001b[1;31m---------------------------------------------------------------------------\u001b[0m",
      "\u001b[1;31mNameError\u001b[0m                                 Traceback (most recent call last)",
      "\u001b[1;32m<ipython-input-2-38bc8f0adc7a>\u001b[0m in \u001b[0;36m<module>\u001b[1;34m\u001b[0m\n\u001b[0;32m      1\u001b[0m \u001b[0murl\u001b[0m\u001b[1;33m=\u001b[0m\u001b[1;34m\"phone_data.csv\"\u001b[0m\u001b[1;33m\u001b[0m\u001b[1;33m\u001b[0m\u001b[0m\n\u001b[1;32m----> 2\u001b[1;33m \u001b[0mdf\u001b[0m\u001b[1;33m=\u001b[0m\u001b[0mpd\u001b[0m\u001b[1;33m.\u001b[0m\u001b[0mread_csv\u001b[0m\u001b[1;33m(\u001b[0m\u001b[0murl\u001b[0m\u001b[1;33m)\u001b[0m\u001b[1;33m\u001b[0m\u001b[1;33m\u001b[0m\u001b[0m\n\u001b[0m\u001b[0;32m      3\u001b[0m \u001b[0mdf\u001b[0m\u001b[1;33m.\u001b[0m\u001b[0mhead\u001b[0m\u001b[1;33m(\u001b[0m\u001b[1;33m)\u001b[0m\u001b[1;33m\u001b[0m\u001b[1;33m\u001b[0m\u001b[0m\n",
      "\u001b[1;31mNameError\u001b[0m: name 'pd' is not defined"
     ]
    }
   ],
   "source": [
    "url=\"phone_data.csv\"\n",
    "df=pd.read_csv(url)\n",
    "df.head()"
   ]
  },
  {
   "cell_type": "code",
   "execution_count": 77,
   "id": "b07c5a5f",
   "metadata": {},
   "outputs": [
    {
     "name": "stdout",
     "output_type": "stream",
     "text": [
      "     index            date  duration  item    month   network network_type\n",
      "1        1  15/10/14 06:58      13.0  call  2014-11  Vodafone       mobile\n",
      "2        2  15/10/14 14:46      23.0  call  2014-11    Meteor       mobile\n",
      "3        3  15/10/14 14:48       4.0  call  2014-11     Tesco       mobile\n",
      "4        4  15/10/14 17:27       4.0  call  2014-11     Tesco       mobile\n",
      "5        5  15/10/14 18:55       4.0  call  2014-11     Tesco       mobile\n",
      "..     ...             ...       ...   ...      ...       ...          ...\n",
      "807    807  03/03/15 10:12     745.0  call  2015-03  Vodafone       mobile\n",
      "808    808  03/03/15 10:27      57.0  call  2015-03  Vodafone       mobile\n",
      "809    809  03/03/15 14:34    1325.0  call  2015-03  Vodafone       mobile\n",
      "810    810  03/03/15 18:36     768.0  call  2015-03     Three       mobile\n",
      "816    816  04/03/15 12:29   10528.0  call  2015-03  landline     landline\n",
      "\n",
      "[388 rows x 7 columns]\n"
     ]
    }
   ],
   "source": [
    "d3=df[df.item==\"call\"]\n",
    "print(d3)"
   ]
  },
  {
   "cell_type": "code",
   "execution_count": 78,
   "id": "fd18e540",
   "metadata": {},
   "outputs": [
    {
     "data": {
      "text/plain": [
       "10528.0"
      ]
     },
     "execution_count": 78,
     "metadata": {},
     "output_type": "execute_result"
    }
   ],
   "source": [
    "d3[\"duration\"].max()   #q1"
   ]
  },
  {
   "cell_type": "code",
   "execution_count": 79,
   "id": "54cbc0fb",
   "metadata": {},
   "outputs": [
    {
     "data": {
      "text/plain": [
       "index             int64\n",
       "date             object\n",
       "duration        float64\n",
       "item             object\n",
       "month            object\n",
       "network          object\n",
       "network_type     object\n",
       "dtype: object"
      ]
     },
     "execution_count": 79,
     "metadata": {},
     "output_type": "execute_result"
    }
   ],
   "source": [
    "df.dtypes"
   ]
  },
  {
   "cell_type": "code",
   "execution_count": 80,
   "id": "b742a1dd",
   "metadata": {},
   "outputs": [
    {
     "data": {
      "text/html": [
       "<div>\n",
       "<style scoped>\n",
       "    .dataframe tbody tr th:only-of-type {\n",
       "        vertical-align: middle;\n",
       "    }\n",
       "\n",
       "    .dataframe tbody tr th {\n",
       "        vertical-align: top;\n",
       "    }\n",
       "\n",
       "    .dataframe thead th {\n",
       "        text-align: right;\n",
       "    }\n",
       "</style>\n",
       "<table border=\"1\" class=\"dataframe\">\n",
       "  <thead>\n",
       "    <tr style=\"text-align: right;\">\n",
       "      <th></th>\n",
       "      <th>index</th>\n",
       "      <th>date</th>\n",
       "      <th>duration</th>\n",
       "      <th>item</th>\n",
       "      <th>month</th>\n",
       "      <th>network</th>\n",
       "      <th>network_type</th>\n",
       "    </tr>\n",
       "  </thead>\n",
       "  <tbody>\n",
       "    <tr>\n",
       "      <th>816</th>\n",
       "      <td>816</td>\n",
       "      <td>04/03/15 12:29</td>\n",
       "      <td>10528.0</td>\n",
       "      <td>call</td>\n",
       "      <td>2015-03</td>\n",
       "      <td>landline</td>\n",
       "      <td>landline</td>\n",
       "    </tr>\n",
       "  </tbody>\n",
       "</table>\n",
       "</div>"
      ],
      "text/plain": [
       "     index            date  duration  item    month   network network_type\n",
       "816    816  04/03/15 12:29   10528.0  call  2015-03  landline     landline"
      ]
     },
     "execution_count": 80,
     "metadata": {},
     "output_type": "execute_result"
    }
   ],
   "source": [
    "d3[d3[\"duration\"]==10528.0]"
   ]
  },
  {
   "cell_type": "code",
   "execution_count": 81,
   "id": "edb137f3",
   "metadata": {},
   "outputs": [
    {
     "data": {
      "text/plain": [
       "92321.0"
      ]
     },
     "execution_count": 81,
     "metadata": {},
     "output_type": "execute_result"
    }
   ],
   "source": [
    "d3[\"duration\"].sum() #How many seconds of phone calls are recorded in total?"
   ]
  },
  {
   "cell_type": "code",
   "execution_count": 82,
   "id": "c46c4720",
   "metadata": {},
   "outputs": [
    {
     "name": "stdout",
     "output_type": "stream",
     "text": [
      "month\n",
      "2014-11    230\n",
      "2014-12    157\n",
      "2015-01    205\n",
      "2015-02    137\n",
      "2015-03    101\n",
      "Name: item, dtype: int64\n"
     ]
    }
   ],
   "source": [
    "d6=df.groupby(\"month\").item.count()\n",
    "print(d6)\n",
    "#How many entries are there for each month?"
   ]
  },
  {
   "cell_type": "code",
   "execution_count": 83,
   "id": "ddc9d53e",
   "metadata": {},
   "outputs": [
    {
     "name": "stdout",
     "output_type": "stream",
     "text": [
      "0      True\n",
      "1      True\n",
      "2      True\n",
      "3      True\n",
      "4      True\n",
      "       ... \n",
      "825    True\n",
      "826    True\n",
      "827    True\n",
      "828    True\n",
      "829    True\n",
      "Name: network, Length: 830, dtype: bool\n"
     ]
    }
   ],
   "source": [
    "#Number of non-null unique network entries\n",
    "\n",
    "d4=pd.notnull(df[\"network\"])\n",
    "print(d4)"
   ]
  },
  {
   "cell_type": "code",
   "execution_count": 84,
   "id": "3079cd67",
   "metadata": {},
   "outputs": [
    {
     "data": {
      "text/plain": [
       "830"
      ]
     },
     "execution_count": 84,
     "metadata": {},
     "output_type": "execute_result"
    }
   ],
   "source": [
    "d4.count()"
   ]
  },
  {
   "cell_type": "code",
   "execution_count": 85,
   "id": "2d1ebf42",
   "metadata": {},
   "outputs": [
    {
     "data": {
      "text/plain": [
       "index           0\n",
       "date            0\n",
       "duration        0\n",
       "item            0\n",
       "month           0\n",
       "network         0\n",
       "network_type    0\n",
       "dtype: int64"
      ]
     },
     "execution_count": 85,
     "metadata": {},
     "output_type": "execute_result"
    }
   ],
   "source": [
    "df.isnull().sum()"
   ]
  },
  {
   "cell_type": "code",
   "execution_count": 86,
   "id": "85e6adc5",
   "metadata": {},
   "outputs": [
    {
     "name": "stdout",
     "output_type": "stream",
     "text": [
      "month\n",
      "2014-11    230\n",
      "2014-12    157\n",
      "2015-01    205\n",
      "2015-02    137\n",
      "2015-03    101\n",
      "Name: item, dtype: int64\n"
     ]
    }
   ],
   "source": [
    "#Get the first entry for each month\n",
    "print(d6)\n"
   ]
  },
  {
   "cell_type": "code",
   "execution_count": 87,
   "id": "710ce8c8",
   "metadata": {},
   "outputs": [
    {
     "name": "stdout",
     "output_type": "stream",
     "text": [
      "          index   duration\n",
      "month                     \n",
      "2014-11   26337  26639.441\n",
      "2014-12   48362  14641.870\n",
      "2015-01  100259  18223.299\n",
      "2015-02   90398  15522.299\n",
      "2015-03   78679  22750.441\n"
     ]
    }
   ],
   "source": [
    "#Get the sum of the durations per month\n",
    "\n",
    "d7=df.groupby(\"month\").sum()\n",
    "print(d7)"
   ]
  },
  {
   "cell_type": "code",
   "execution_count": null,
   "id": "66cabb7f",
   "metadata": {},
   "outputs": [],
   "source": [
    "#Get the number of dates / entries in each month\n",
    "\n"
   ]
  },
  {
   "cell_type": "code",
   "execution_count": 104,
   "id": "e6b29390",
   "metadata": {},
   "outputs": [
    {
     "data": {
      "text/plain": [
       "network\n",
       "Meteor        7200.0\n",
       "Tesco        13828.0\n",
       "Three        36464.0\n",
       "Vodafone     14621.0\n",
       "landline     18433.0\n",
       "voicemail     1775.0\n",
       "Name: duration, dtype: float64"
      ]
     },
     "execution_count": 104,
     "metadata": {},
     "output_type": "execute_result"
    }
   ],
   "source": [
    "#What is the sum of durations, for calls only, to each network\n",
    "#d3=df[df.item==\"call\"]\n",
    "\n",
    "\n",
    "d8= d3.groupby(\"network\").duration.sum()\n",
    "d8"
   ]
  },
  {
   "cell_type": "code",
   "execution_count": 103,
   "id": "f99ff45a",
   "metadata": {},
   "outputs": [
    {
     "name": "stdout",
     "output_type": "stream",
     "text": [
      "network       Meteor  Tesco  Three  Vodafone  data  landline  special  \\\n",
      "month   item                                                            \n",
      "2014-11 call    13.0   20.0   39.0      24.0   NaN       5.0      NaN   \n",
      "        data     NaN    NaN    NaN       NaN  29.0       NaN      NaN   \n",
      "        sms     10.0    3.0   25.0      55.0   NaN       NaN      1.0   \n",
      "2014-12 call    12.0   12.0   30.0      10.0   NaN       7.0      NaN   \n",
      "        data     NaN    NaN    NaN       NaN  30.0       NaN      NaN   \n",
      "        sms     12.0    1.0   13.0      18.0   NaN       NaN      NaN   \n",
      "2015-01 call    21.0   12.0   26.0      15.0   NaN      11.0      NaN   \n",
      "        data     NaN    NaN    NaN       NaN  31.0       NaN      NaN   \n",
      "        sms     10.0    3.0   33.0      40.0   NaN       NaN      NaN   \n",
      "2015-02 call     4.0   20.0   22.0       7.0   NaN       8.0      NaN   \n",
      "        data     NaN    NaN    NaN       NaN  31.0       NaN      NaN   \n",
      "        sms      1.0    2.0   11.0      23.0   NaN       NaN      2.0   \n",
      "2015-03 call     4.0    7.0   11.0      10.0   NaN      11.0      NaN   \n",
      "        data     NaN    NaN    NaN       NaN  29.0       NaN      NaN   \n",
      "        sms      NaN    4.0    5.0      13.0   NaN       NaN      NaN   \n",
      "\n",
      "network       voicemail  world  \n",
      "month   item                    \n",
      "2014-11 call        6.0    NaN  \n",
      "        data        NaN    NaN  \n",
      "        sms         NaN    NaN  \n",
      "2014-12 call        8.0    NaN  \n",
      "        data        NaN    NaN  \n",
      "        sms         NaN    4.0  \n",
      "2015-01 call        3.0    NaN  \n",
      "        data        NaN    NaN  \n",
      "        sms         NaN    NaN  \n",
      "2015-02 call        6.0    NaN  \n",
      "        data        NaN    NaN  \n",
      "        sms         NaN    NaN  \n",
      "2015-03 call        4.0    NaN  \n",
      "        data        NaN    NaN  \n",
      "        sms         NaN    3.0  \n"
     ]
    }
   ],
   "source": [
    "# How many calls, sms, and data entries are in each month?\n",
    "d9= df.groupby([\"month\",\"item\",\"network\"]).index.count().unstack() \n",
    "print(d9)"
   ]
  },
  {
   "cell_type": "code",
   "execution_count": 92,
   "id": "88d1ec4d",
   "metadata": {},
   "outputs": [],
   "source": [
    "#Group the dataframe by month and item and extract a number of stats from each group\n",
    "    \n",
    "d11= df.groupby(\"month\",\"item\")"
   ]
  },
  {
   "cell_type": "code",
   "execution_count": null,
   "id": "98d40d49",
   "metadata": {},
   "outputs": [],
   "source": [
    "#Define the aggregation procedure outside of the groupby operation\n",
    "\n",
    "d10= df.groupby(\"month\").item.agg[('count',\"min\",\"max\",\"mean\")]"
   ]
  },
  {
   "cell_type": "code",
   "execution_count": null,
   "id": "a6f3baac",
   "metadata": {},
   "outputs": [],
   "source": []
  }
 ],
 "metadata": {
  "kernelspec": {
   "display_name": "Python 3",
   "language": "python",
   "name": "python3"
  },
  "language_info": {
   "codemirror_mode": {
    "name": "ipython",
    "version": 3
   },
   "file_extension": ".py",
   "mimetype": "text/x-python",
   "name": "python",
   "nbconvert_exporter": "python",
   "pygments_lexer": "ipython3",
   "version": "3.8.8"
  }
 },
 "nbformat": 4,
 "nbformat_minor": 5
}
